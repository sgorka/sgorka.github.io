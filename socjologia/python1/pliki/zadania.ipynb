{
 "cells": [
  {
   "cell_type": "markdown",
   "metadata": {},
   "source": [
    "# Zadania do przećwiczenia"
   ]
  },
  {
   "cell_type": "markdown",
   "metadata": {},
   "source": [
    "## Zadanie 1\n",
    "Napisz program, który wypisze kwadraty liczb z zadanego przedziału `[a,b]` przez użytkownika.\n",
    "Stwórz dwie wersje z petlą `for` i `while`"
   ]
  },
  {
   "cell_type": "code",
   "execution_count": null,
   "metadata": {},
   "outputs": [],
   "source": []
  },
  {
   "cell_type": "markdown",
   "metadata": {},
   "source": [
    "## Zadanie 2\n",
    "Napisz program, który wypisze liczbę dni w danym miesiącu.\n",
    "Uzytkownik podaje miesiąc, a rezulatem jest liczba dni. "
   ]
  },
  {
   "cell_type": "code",
   "execution_count": null,
   "metadata": {},
   "outputs": [],
   "source": []
  },
  {
   "cell_type": "markdown",
   "metadata": {},
   "source": [
    "## Zadanie 3\n",
    "Napisz funkcję, która wypisze liczby parzyste z danej listy.\n",
    "Argumentem funkcji jest lista."
   ]
  },
  {
   "cell_type": "code",
   "execution_count": null,
   "metadata": {},
   "outputs": [],
   "source": []
  },
  {
   "cell_type": "markdown",
   "metadata": {},
   "source": [
    "## Zadanie 4\n",
    "Napisz funkcję, która zsumuje sześciany liczb z podanej listy.\n",
    "np. `suma_szescian([1,2,3])`, to funkcja obliczy `1^3 + 2^3+3^3`"
   ]
  },
  {
   "cell_type": "code",
   "execution_count": null,
   "metadata": {},
   "outputs": [],
   "source": []
  },
  {
   "cell_type": "markdown",
   "metadata": {},
   "source": [
    "## Zadanie 5* \n",
    "Napisz funkcję, która obliczy liczbę dużych i małych liter w wyrazie.\n",
    "Aby sprawdzić czy dana\n",
    "litera jest duża (mała) użyj `.isupper()` (`.islower`)"
   ]
  },
  {
   "cell_type": "code",
   "execution_count": null,
   "metadata": {},
   "outputs": [],
   "source": []
  },
  {
   "cell_type": "markdown",
   "metadata": {},
   "source": [
    "***"
   ]
  },
  {
   "cell_type": "markdown",
   "metadata": {},
   "source": [
    "Na zajęciach mieliśmy kod, który losował nam liczby\n",
    "```python\n",
    "import random <br>\n",
    "liczba = random.randint(0, 5)\n",
    "print(liczba)\n",
    "```\n"
   ]
  },
  {
   "cell_type": "markdown",
   "metadata": {},
   "source": [
    "# Zadanie 6**\n",
    "Napisz grę papier, kamień, nożyce.\n",
    "<br>\n",
    "Zasady:\n",
    "- gramy do 3 zwyciestw, użytkownika lub komputera\n",
    "- papier bije kamień, kamień nożyce, nożyce papier\n",
    "\n",
    "Program działa tak, że losujemy liczbę (1, 2 lub 3) każda ma przypisaną rzecz np. 1 = kamień, następnie pytamy użytkownika o wybór `(k, p, n)` i porównujemy rezultaty.\n",
    "\n",
    "1. komputer losuje 1, czyli kamień.\n",
    "1. Pytamy użytkowika o wybór, podaje `p`\n",
    "1. sprawdzamy, odpowiednie warunki (`if`), kto wygrywa\n",
    "1. sprawdzamy czy ktoś ma 3 zwycięstwa, jeśli nie to kontynuujemy\n"
   ]
  },
  {
   "cell_type": "code",
   "execution_count": null,
   "metadata": {},
   "outputs": [],
   "source": []
  }
 ],
 "metadata": {
  "kernelspec": {
   "display_name": "Python 3",
   "language": "python",
   "name": "python3"
  },
  "language_info": {
   "codemirror_mode": {
    "name": "ipython",
    "version": 3
   },
   "file_extension": ".py",
   "mimetype": "text/x-python",
   "name": "python",
   "nbconvert_exporter": "python",
   "pygments_lexer": "ipython3",
   "version": "3.7.0"
  }
 },
 "nbformat": 4,
 "nbformat_minor": 4
}
