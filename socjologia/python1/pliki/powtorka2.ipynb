{
 "cells": [
  {
   "cell_type": "markdown",
   "metadata": {},
   "source": [
    "### __Ćwiczenie 1__ Sklep\n",
    "Napisz program zakupy.<br>\n",
    "Pytamy użytkownika co kupił, następnie ilość i cenę.<br>\n",
    "Na koniec obliczamy sumę.<br>\n",
    "Użytkownik może kupić więcej niż jedną rzecz.<br>\n"
   ]
  },
  {
   "cell_type": "markdown",
   "metadata": {},
   "source": [
    "#### __Ćwiczenie 1a__ jeden produkt\n",
    "Spytaj użytkownika co kupił. <br>\n",
    "Następnie spytaj o ilość zakupionych towarów. <br>\n",
    "Na koniec spytaj o cenę towarów"
   ]
  },
  {
   "cell_type": "code",
   "execution_count": null,
   "metadata": {},
   "outputs": [],
   "source": []
  },
  {
   "cell_type": "markdown",
   "metadata": {},
   "source": [
    "#### __Ćwiczenie 1b__ wiele produktów\n",
    "Zamień powyższy kod na pętle <br>\n",
    "Pytaj użytkownika czy chce coś dodać do koszyka czy zakończyć. <br>\n",
    "Gdy wybiera opcję zakończ wyświetl mu sumę"
   ]
  },
  {
   "cell_type": "code",
   "execution_count": null,
   "metadata": {},
   "outputs": [],
   "source": []
  }
 ],
 "metadata": {
  "kernelspec": {
   "display_name": "Python 3",
   "language": "python",
   "name": "python3"
  },
  "language_info": {
   "codemirror_mode": {
    "name": "ipython",
    "version": 3
   },
   "file_extension": ".py",
   "mimetype": "text/x-python",
   "name": "python",
   "nbconvert_exporter": "python",
   "pygments_lexer": "ipython3",
   "version": "3.7.0"
  }
 },
 "nbformat": 4,
 "nbformat_minor": 4
}
