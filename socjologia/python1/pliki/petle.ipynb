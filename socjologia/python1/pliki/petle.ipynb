{
 "cells": [
  {
   "cell_type": "markdown",
   "metadata": {},
   "source": [
    "# Pętla for"
   ]
  },
  {
   "cell_type": "markdown",
   "metadata": {},
   "source": [
    "Składnia pętli `for`: `for i in range(10):` \\\n",
    "- `for` słowo kluczowe\n",
    "- `i` dowolna nazwa zmiennej\n",
    "- `in` słowo kluczowe\n",
    "- `range(10)` zakres (tutaj może być dodowlny obiekt zwany iterowanym, to są np. listy czy zakresy (`range`), będziemy jeszcze o tym mówić\n",
    "- `:` koniec definicji pętli\n",
    "- blok kodu zaczynamy poniżej od wcięcia\n",
    "\n",
    "Przykład"
   ]
  },
  {
   "cell_type": "code",
   "execution_count": 1,
   "metadata": {},
   "outputs": [
    {
     "name": "stdout",
     "output_type": "stream",
     "text": [
      "0\n",
      "1\n",
      "2\n",
      "3\n",
      "4\n",
      "5\n",
      "6\n"
     ]
    }
   ],
   "source": [
    "for licznik in range(7):\n",
    "    print(licznik)"
   ]
  },
  {
   "cell_type": "code",
   "execution_count": 8,
   "metadata": {},
   "outputs": [
    {
     "name": "stdout",
     "output_type": "stream",
     "text": [
      "Hello! 0\n",
      "Pozostały jeszcze 4 powitania\n",
      "\n",
      "Hello! 1\n",
      "Pozostały jeszcze 3 powitania\n",
      "\n",
      "Hello! 2\n",
      "Pozostały jeszcze 2 powitania\n",
      "\n",
      "Hello! 3\n",
      "Pozostały jeszcze 1 powitania\n",
      "\n",
      "Hello! 4\n",
      "Pozostały jeszcze 0 powitania\n",
      "\n",
      "kod poza petlą\n"
     ]
    }
   ],
   "source": [
    "end = 5\n",
    "for i in range(end):\n",
    "    print('Hello!', i)\n",
    "    print('Pozostały jeszcze', end - i - 1, 'powitania\\n')\n",
    "print('kod poza petlą')"
   ]
  },
  {
   "cell_type": "code",
   "execution_count": null,
   "metadata": {},
   "outputs": [],
   "source": []
  }
 ],
 "metadata": {
  "kernelspec": {
   "display_name": "Python 3",
   "language": "python",
   "name": "python3"
  },
  "language_info": {
   "codemirror_mode": {
    "name": "ipython",
    "version": 3
   },
   "file_extension": ".py",
   "mimetype": "text/x-python",
   "name": "python",
   "nbconvert_exporter": "python",
   "pygments_lexer": "ipython3",
   "version": "3.7.0"
  }
 },
 "nbformat": 4,
 "nbformat_minor": 4
}
