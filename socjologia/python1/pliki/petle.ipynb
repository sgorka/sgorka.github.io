{
 "cells": [
  {
   "cell_type": "code",
   "execution_count": null,
   "metadata": {},
   "outputs": [],
   "source": []
  },
  {
   "cell_type": "markdown",
   "metadata": {},
   "source": [
    "# Pętle\n",
    "[for](#for) <br>\n",
    "[while](#while)"
   ]
  },
  {
   "cell_type": "markdown",
   "metadata": {},
   "source": [
    "# Pętla for  <a name=\"for\"></a>"
   ]
  },
  {
   "cell_type": "markdown",
   "metadata": {},
   "source": [
    "Składnia pętli `for`: `for i in range(10):` \n",
    "- `for` słowo kluczowe\n",
    "- `i` dowolna nazwa zmiennej\n",
    "- `in` słowo kluczowe\n",
    "- `range(10)` zakres (tutaj może być dodowlny obiekt zwany iterowanym, to są np. listy czy zakresy (`range`), będziemy jeszcze o tym mówić\n",
    "- `:` koniec definicji pętli\n",
    "- blok kodu zaczynamy poniżej od wcięcia\n",
    "\n",
    "Przykład"
   ]
  },
  {
   "cell_type": "code",
   "execution_count": 1,
   "metadata": {},
   "outputs": [
    {
     "name": "stdout",
     "output_type": "stream",
     "text": [
      "0\n",
      "1\n",
      "2\n",
      "3\n",
      "4\n",
      "5\n",
      "6\n"
     ]
    }
   ],
   "source": [
    "for licznik in range(7):\n",
    "    print(licznik)"
   ]
  },
  {
   "cell_type": "code",
   "execution_count": 8,
   "metadata": {},
   "outputs": [
    {
     "name": "stdout",
     "output_type": "stream",
     "text": [
      "Hello! 0\n",
      "Pozostały jeszcze 4 powitania\n",
      "\n",
      "Hello! 1\n",
      "Pozostały jeszcze 3 powitania\n",
      "\n",
      "Hello! 2\n",
      "Pozostały jeszcze 2 powitania\n",
      "\n",
      "Hello! 3\n",
      "Pozostały jeszcze 1 powitania\n",
      "\n",
      "Hello! 4\n",
      "Pozostały jeszcze 0 powitania\n",
      "\n",
      "kod poza petlą\n"
     ]
    }
   ],
   "source": [
    "end = 5\n",
    "for i in range(end):\n",
    "    print('Hello!', i)\n",
    "    print('Pozostały jeszcze', end - i - 1, 'powitania\\n')\n",
    "print('kod poza petlą')"
   ]
  },
  {
   "cell_type": "markdown",
   "metadata": {},
   "source": [
    "### Ćwiczenie 1\n",
    "Wypisz kwadraty liczb od 0 do 25"
   ]
  },
  {
   "cell_type": "code",
   "execution_count": 1,
   "metadata": {},
   "outputs": [
    {
     "name": "stdout",
     "output_type": "stream",
     "text": [
      "0\n",
      "1\n",
      "4\n",
      "9\n",
      "16\n",
      "25\n",
      "36\n",
      "49\n",
      "64\n",
      "81\n",
      "100\n",
      "121\n",
      "144\n",
      "169\n",
      "196\n",
      "225\n",
      "256\n",
      "289\n",
      "324\n",
      "361\n",
      "400\n",
      "441\n",
      "484\n",
      "529\n",
      "576\n",
      "625\n"
     ]
    }
   ],
   "source": [
    "n = 25\n",
    "for liczba in range(26):\n",
    "    print(liczba**2)"
   ]
  },
  {
   "cell_type": "markdown",
   "metadata": {},
   "source": [
    "### Ćwiczenie 2\n",
    "Napisz program, który spyta użytkownika o liczbę\n",
    "a następnie wypisz tablicę mnożenia do 15, np. <br>\n",
    "Użytkonwik podał liczbę `5`<br>\n",
    "`5 x 1 = 5` <br>\n",
    " `5 x 2 = 10` <br>\n",
    " `....` <br>\n",
    " `5 x 15 = 75`"
   ]
  },
  {
   "cell_type": "code",
   "execution_count": 3,
   "metadata": {},
   "outputs": [
    {
     "name": "stdin",
     "output_type": "stream",
     "text": [
      "Podaj liczbę 5\n"
     ]
    },
    {
     "name": "stdout",
     "output_type": "stream",
     "text": [
      "5 x 1 = 5\n",
      "5 x 2 = 10\n",
      "5 x 3 = 15\n",
      "5 x 4 = 20\n",
      "5 x 5 = 25\n",
      "5 x 6 = 30\n",
      "5 x 7 = 35\n",
      "5 x 8 = 40\n",
      "5 x 9 = 45\n",
      "5 x 10 = 50\n",
      "5 x 11 = 55\n",
      "5 x 12 = 60\n",
      "5 x 13 = 65\n",
      "5 x 14 = 70\n",
      "5 x 15 = 75\n"
     ]
    }
   ],
   "source": [
    "liczba = int(input(\"Podaj liczbę\"))\n",
    "n = 15\n",
    "for i in range(n):\n",
    "    print(liczba, 'x', i +1, '=', liczba*(i+1)) # czemu tu jest i+1?"
   ]
  },
  {
   "cell_type": "markdown",
   "metadata": {},
   "source": [
    "### Ćwiczenie 3\n",
    "Napisz program, który będzie mnożył liczby parzyste przez 3\n",
    "a nieparzyste przez 5 z zakresu od 0 do 25"
   ]
  },
  {
   "cell_type": "code",
   "execution_count": 5,
   "metadata": {},
   "outputs": [
    {
     "name": "stdout",
     "output_type": "stream",
     "text": [
      "0 parzysta * 3 0\n",
      "1 nieparzysta * 5 5\n",
      "2 parzysta * 3 6\n",
      "3 nieparzysta * 5 15\n",
      "4 parzysta * 3 12\n",
      "5 nieparzysta * 5 25\n",
      "6 parzysta * 3 18\n",
      "7 nieparzysta * 5 35\n",
      "8 parzysta * 3 24\n",
      "9 nieparzysta * 5 45\n",
      "10 parzysta * 3 30\n",
      "11 nieparzysta * 5 55\n",
      "12 parzysta * 3 36\n",
      "13 nieparzysta * 5 65\n",
      "14 parzysta * 3 42\n",
      "15 nieparzysta * 5 75\n",
      "16 parzysta * 3 48\n",
      "17 nieparzysta * 5 85\n",
      "18 parzysta * 3 54\n",
      "19 nieparzysta * 5 95\n",
      "20 parzysta * 3 60\n",
      "21 nieparzysta * 5 105\n",
      "22 parzysta * 3 66\n",
      "23 nieparzysta * 5 115\n",
      "24 parzysta * 3 72\n",
      "25 nieparzysta * 5 125\n"
     ]
    }
   ],
   "source": [
    "n = 25\n",
    "for i in range(n+1):\n",
    "    if (i%2)==0: #jeśli reszta z dzielenia przez 2 jest 0 to jest to lcizba parzysta\n",
    "        print(i, 'parzysta * 3',i*3)\n",
    "    else:\n",
    "        print(i, 'nieparzysta * 5', i*5)"
   ]
  },
  {
   "cell_type": "markdown",
   "metadata": {},
   "source": [
    "Wypisz litery napisu"
   ]
  },
  {
   "cell_type": "code",
   "execution_count": null,
   "metadata": {},
   "outputs": [],
   "source": [
    "napis = 'hello'\n",
    "for i in napis:\n",
    "    print(i)"
   ]
  },
  {
   "cell_type": "markdown",
   "metadata": {},
   "source": [
    "jesli chcielibyśmy się odowłać do keljnych liter jak w liście"
   ]
  },
  {
   "cell_type": "code",
   "execution_count": 4,
   "metadata": {},
   "outputs": [
    {
     "name": "stdout",
     "output_type": "stream",
     "text": [
      "h\n",
      "e\n",
      "l\n",
      "l\n",
      "o\n"
     ]
    }
   ],
   "source": [
    "napis = 'hello'\n",
    "for i in range(len(napis)):\n",
    "    print(napis[i])"
   ]
  },
  {
   "cell_type": "markdown",
   "metadata": {},
   "source": [
    "### Ćwiczenie \n",
    "Wypisz podany napis od końca"
   ]
  },
  {
   "cell_type": "code",
   "execution_count": 9,
   "metadata": {},
   "outputs": [
    {
     "name": "stdout",
     "output_type": "stream",
     "text": [
      "napis[0] = o\n",
      "napis[1] = l\n",
      "napis[2] = l\n",
      "napis[3] = e\n",
      "napis[4] = h\n"
     ]
    }
   ],
   "source": [
    "napis = 'hello'\n",
    "dlugosc = len(napis)\n",
    "for i in range(len(napis)):\n",
    "    print('napis[',i,'] = ',napis[dlugosc - i - 1], sep='')"
   ]
  },
  {
   "cell_type": "markdown",
   "metadata": {},
   "source": [
    "### Ćwiczenie 4\n",
    "Napisz program, który będzie zliczał liczbę wystąpień litery 'a' w napisie"
   ]
  },
  {
   "cell_type": "code",
   "execution_count": 4,
   "metadata": {},
   "outputs": [
    {
     "name": "stdout",
     "output_type": "stream",
     "text": [
      "W asdfa litera a wwystąpiła 2 raz(y)\n"
     ]
    }
   ],
   "source": [
    "napis = 'asdfa'\n",
    "count = 0 # tworze licznik, gdzie bedę zapisywał ile razy wystąpiła litera 'a'\n",
    "for i in napis:\n",
    "    if i == 'a':\n",
    "        count+=1\n",
    "print('W', napis, 'litera a wwystąpiła', count, 'raz(y)')\n",
    "    "
   ]
  },
  {
   "cell_type": "markdown",
   "metadata": {},
   "source": [
    "### Ćwiczenie 5\n",
    "Napisz program, który zliczy sumę liczb do zadanego `n`"
   ]
  },
  {
   "cell_type": "code",
   "execution_count": 5,
   "metadata": {},
   "outputs": [
    {
     "name": "stdout",
     "output_type": "stream",
     "text": [
      "Suma do 5 wynosi 10\n"
     ]
    }
   ],
   "source": [
    "n = 5\n",
    "suma = 0\n",
    "for i in range(0, n):\n",
    "    suma += i\n",
    "print('Suma do', n, 'wynosi', suma)"
   ]
  },
  {
   "cell_type": "markdown",
   "metadata": {},
   "source": [
    "### Ćwiczenie 6\n",
    "Napisz kod, który sprawdzi czy dany element jest elementem listy.\n",
    "Tak jak działa funkcja `in`"
   ]
  },
  {
   "cell_type": "code",
   "execution_count": 10,
   "metadata": {},
   "outputs": [],
   "source": [
    "lista = [0,1,2,'a', 0]"
   ]
  },
  {
   "cell_type": "code",
   "execution_count": 13,
   "metadata": {},
   "outputs": [
    {
     "name": "stdout",
     "output_type": "stream",
     "text": [
      "0 jest elementem listy\n"
     ]
    }
   ],
   "source": [
    "szukany_element = 0\n",
    "for i in lista:\n",
    "    if i == szukany_element:\n",
    "        print(szukany_element, 'jest elementem listy')\n",
    "        break # po znalezieniu przerywamy, jeśli występuję więcej niż raz ten program\n",
    "        # tego mie zauważy"
   ]
  },
  {
   "cell_type": "markdown",
   "metadata": {},
   "source": [
    "***\n",
    "\n",
    "#  Pętla while <a name='while'></a>"
   ]
  },
  {
   "cell_type": "code",
   "execution_count": 1,
   "metadata": {},
   "outputs": [
    {
     "name": "stdout",
     "output_type": "stream",
     "text": [
      "Hello\n",
      "Hello\n",
      "Hello\n",
      "Hello\n"
     ]
    }
   ],
   "source": [
    "i = 0\n",
    "while i < 5:\n",
    "    print(i)\n",
    "    i += 1 # to to samo co i = i + 1"
   ]
  },
  {
   "cell_type": "code",
   "execution_count": null,
   "metadata": {},
   "outputs": [],
   "source": [
    "# zaienić na while\n",
    "end = 5\n",
    "for i in range(end):\n",
    "    print('Hello!', i)\n",
    "    print('Pozostały jeszcze', end - i - 1, 'powitania\\n')\n",
    "print('kod poza petlą')"
   ]
  },
  {
   "cell_type": "code",
   "execution_count": 9,
   "metadata": {},
   "outputs": [
    {
     "data": {
      "text/plain": [
       "[0, 1, 2, 3, 4]"
      ]
     },
     "execution_count": 9,
     "metadata": {},
     "output_type": "execute_result"
    }
   ],
   "source": []
  },
  {
   "cell_type": "markdown",
   "metadata": {},
   "source": [
    "### Ćwiczenie 7\n",
    "Napisz program, który zliczy sumę liczb do zadanego `n`\n",
    "używając pętli `while` (w ćwiczeniu 3 zrobilismy to z pętlą `for`)"
   ]
  },
  {
   "cell_type": "code",
   "execution_count": 16,
   "metadata": {},
   "outputs": [
    {
     "name": "stdout",
     "output_type": "stream",
     "text": [
      "Suma liczb do 150 wynosi 11175\n"
     ]
    }
   ],
   "source": [
    "n = 150\n",
    "i = 0\n",
    "suma = 0\n",
    "while i<n:\n",
    "    suma += i\n",
    "    i +=1\n",
    "print('Suma liczb do', n, 'wynosi', suma)"
   ]
  },
  {
   "cell_type": "markdown",
   "metadata": {},
   "source": [
    "### Ćwiczenie 8\n",
    "Napisz program, który spyta użytkownika o wiek.\n",
    "Jeśli wiek < 18, to odmów wstępu i pytaj dalej. \n",
    "Uzyj pętli `while` "
   ]
  },
  {
   "cell_type": "code",
   "execution_count": 20,
   "metadata": {},
   "outputs": [
    {
     "name": "stdin",
     "output_type": "stream",
     "text": [
      "Podaj swój wiek: 8\n"
     ]
    },
    {
     "name": "stdout",
     "output_type": "stream",
     "text": [
      "Odmowa dostępu\n"
     ]
    },
    {
     "name": "stdin",
     "output_type": "stream",
     "text": [
      "Podaj swój wiek: 8\n"
     ]
    },
    {
     "name": "stdout",
     "output_type": "stream",
     "text": [
      "Odmowa dostępu\n"
     ]
    },
    {
     "name": "stdin",
     "output_type": "stream",
     "text": [
      "Podaj swój wiek: 19\n"
     ]
    },
    {
     "name": "stdout",
     "output_type": "stream",
     "text": [
      "Przyznano dostęp\n"
     ]
    }
   ],
   "source": [
    "while True:\n",
    "    wiek = int(input('Podaj swój wiek:')) # int zamienia input na liczbę\n",
    "    if wiek >= 18:\n",
    "        break\n",
    "    print('Odmowa dostępu')\n",
    "print('Przyznano dostęp')"
   ]
  },
  {
   "cell_type": "code",
   "execution_count": null,
   "metadata": {},
   "outputs": [],
   "source": []
  },
  {
   "cell_type": "markdown",
   "metadata": {},
   "source": [
    "### Ćwiczenie 9\n",
    "Napisz program, który spyta użytkownika hasło.\n",
    "Jeśli hasło krótsze niż 2 znaki poproś o powtórzenie. \n",
    "Na końcu wyswietl użytkownikowi ostatni znak jego hasła, resztę zastąp `*`, np. \n",
    "`***1` <br>"
   ]
  },
  {
   "cell_type": "markdown",
   "metadata": {},
   "source": [
    "Odwołanie do liter naisu jak do listy, np.\n"
   ]
  },
  {
   "cell_type": "code",
   "execution_count": 2,
   "metadata": {},
   "outputs": [
    {
     "data": {
      "text/plain": [
       "'r'"
      ]
     },
     "execution_count": 2,
     "metadata": {},
     "output_type": "execute_result"
    }
   ],
   "source": [
    "password = 'srg1'\n",
    "password[1]"
   ]
  },
  {
   "cell_type": "code",
   "execution_count": 24,
   "metadata": {},
   "outputs": [
    {
     "name": "stdin",
     "output_type": "stream",
     "text": [
      "Podaj haslo: 589\n"
     ]
    },
    {
     "name": "stdout",
     "output_type": "stream",
     "text": [
      "Twoje hasło kończy się: **9\n"
     ]
    }
   ],
   "source": [
    "while True:\n",
    "    haslo = input('Podaj haslo:') # tu nie zamienimay na liczbę!\n",
    "    if len(haslo) > 2:\n",
    "        break\n",
    "print('Twoje hasło kończy się: ', '*'*(len(haslo)-1), haslo[len(haslo)-1], sep='')"
   ]
  },
  {
   "cell_type": "markdown",
   "metadata": {},
   "source": [
    "***"
   ]
  },
  {
   "cell_type": "markdown",
   "metadata": {},
   "source": [
    "### Ćwiczenie \n",
    "Napisz program, który będzie zadawał liczbe z przedziału `[0, 5]` a użytkownik musi ją zgadnąć.\n",
    "Wykorzystaj pętle `while` i `break`\n",
    "\n",
    "Rozszerzenie: Dodaj linijki kodu informujące użytkonwika czy jego propozycja jest za duza lub za mała"
   ]
  },
  {
   "cell_type": "code",
   "execution_count": 1,
   "metadata": {},
   "outputs": [
    {
     "name": "stdout",
     "output_type": "stream",
     "text": [
      "4\n"
     ]
    }
   ],
   "source": [
    "import random\n",
    "liczba = random.randint(0, 5)\n",
    "print(liczba)"
   ]
  },
  {
   "cell_type": "code",
   "execution_count": 3,
   "metadata": {},
   "outputs": [
    {
     "name": "stdin",
     "output_type": "stream",
     "text": [
      "zgadnij liczbę: 3\n"
     ]
    },
    {
     "name": "stdout",
     "output_type": "stream",
     "text": [
      "Za dużo!\n"
     ]
    },
    {
     "name": "stdin",
     "output_type": "stream",
     "text": [
      "zgadnij liczbę: 1\n"
     ]
    },
    {
     "name": "stdout",
     "output_type": "stream",
     "text": [
      "Za dużo!\n"
     ]
    },
    {
     "name": "stdin",
     "output_type": "stream",
     "text": [
      "zgadnij liczbę: 0\n"
     ]
    },
    {
     "name": "stdout",
     "output_type": "stream",
     "text": [
      "Zgadłeś!\n"
     ]
    }
   ],
   "source": [
    "import random\n",
    "liczba = random.randint(0, 5)\n",
    "while True:\n",
    "    x = int(input('zgadnij liczbę:'))\n",
    "    if x == liczba:\n",
    "        print('Zgadłeś!')\n",
    "        break\n",
    "    if x > liczba:\n",
    "        print('Za dużo!')\n",
    "    else:\n",
    "        print('Za mało!')\n",
    "    "
   ]
  },
  {
   "cell_type": "code",
   "execution_count": null,
   "metadata": {},
   "outputs": [],
   "source": []
  }
 ],
 "metadata": {
  "kernelspec": {
   "display_name": "Python 3",
   "language": "python",
   "name": "python3"
  },
  "language_info": {
   "codemirror_mode": {
    "name": "ipython",
    "version": 3
   },
   "file_extension": ".py",
   "mimetype": "text/x-python",
   "name": "python",
   "nbconvert_exporter": "python",
   "pygments_lexer": "ipython3",
   "version": "3.7.0"
  }
 },
 "nbformat": 4,
 "nbformat_minor": 4
}
