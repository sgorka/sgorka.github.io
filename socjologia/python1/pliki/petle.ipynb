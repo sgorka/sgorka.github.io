{
 "cells": [
  {
   "cell_type": "markdown",
   "metadata": {},
   "source": [
    "# Pętle\n",
    "[for](#for) <br>\n",
    "[while](#while)"
   ]
  },
  {
   "cell_type": "markdown",
   "metadata": {},
   "source": [
    "# Pętla for  <a name=\"for\"></a>"
   ]
  },
  {
   "cell_type": "markdown",
   "metadata": {},
   "source": [
    "Składnia pętli `for`: `for i in range(10):` \n",
    "- `for` słowo kluczowe\n",
    "- `i` dowolna nazwa zmiennej\n",
    "- `in` słowo kluczowe\n",
    "- `range(10)` zakres (tutaj może być dodowlny obiekt zwany iterowanym, to są np. listy czy zakresy (`range`), będziemy jeszcze o tym mówić\n",
    "- `:` koniec definicji pętli\n",
    "- blok kodu zaczynamy poniżej od wcięcia\n",
    "\n",
    "Przykład"
   ]
  },
  {
   "cell_type": "code",
   "execution_count": 1,
   "metadata": {},
   "outputs": [
    {
     "name": "stdout",
     "output_type": "stream",
     "text": [
      "0\n",
      "1\n",
      "2\n",
      "3\n",
      "4\n",
      "5\n",
      "6\n"
     ]
    }
   ],
   "source": [
    "for licznik in range(7):\n",
    "    print(licznik)"
   ]
  },
  {
   "cell_type": "code",
   "execution_count": 8,
   "metadata": {},
   "outputs": [
    {
     "name": "stdout",
     "output_type": "stream",
     "text": [
      "Hello! 0\n",
      "Pozostały jeszcze 4 powitania\n",
      "\n",
      "Hello! 1\n",
      "Pozostały jeszcze 3 powitania\n",
      "\n",
      "Hello! 2\n",
      "Pozostały jeszcze 2 powitania\n",
      "\n",
      "Hello! 3\n",
      "Pozostały jeszcze 1 powitania\n",
      "\n",
      "Hello! 4\n",
      "Pozostały jeszcze 0 powitania\n",
      "\n",
      "kod poza petlą\n"
     ]
    }
   ],
   "source": [
    "end = 5\n",
    "for i in range(end):\n",
    "    print('Hello!', i)\n",
    "    print('Pozostały jeszcze', end - i - 1, 'powitania\\n')\n",
    "print('kod poza petlą')"
   ]
  },
  {
   "cell_type": "markdown",
   "metadata": {},
   "source": [
    "### Ćwiczenie 1\n",
    "Wypisz kwadraty liczb od 0 do 25"
   ]
  },
  {
   "cell_type": "code",
   "execution_count": 40,
   "metadata": {},
   "outputs": [
    {
     "data": {
      "text/plain": [
       "0"
      ]
     },
     "execution_count": 40,
     "metadata": {},
     "output_type": "execute_result"
    }
   ],
   "source": []
  },
  {
   "cell_type": "markdown",
   "metadata": {},
   "source": [
    "### Ćwiczenie 2\n",
    "Napisz program, który spyta użytkownika o liczbę\n",
    "a następnie wypisz tablicę mnożenia do 15, np. <br>\n",
    "Użytkonwik podał liczbę `5`<br>\n",
    "`5 x 1 = 5` <br>\n",
    " `5 x 2 = 10` <br>\n",
    " `....` <br>\n",
    " `5 x 15 = 75`"
   ]
  },
  {
   "cell_type": "markdown",
   "metadata": {},
   "source": [
    "### Ćwiczenie 3\n",
    "Napisz program, który będzie mnożył liczby parzyste przez 3\n",
    "a nieparzyste przez 5"
   ]
  },
  {
   "cell_type": "code",
   "execution_count": null,
   "metadata": {},
   "outputs": [],
   "source": []
  },
  {
   "cell_type": "markdown",
   "metadata": {},
   "source": [
    "### Ćwiczenie 4\n",
    "Napisz program, który będzie zliczał liczbę wystąpień litery 'a' w napisie"
   ]
  },
  {
   "cell_type": "code",
   "execution_count": null,
   "metadata": {},
   "outputs": [],
   "source": []
  },
  {
   "cell_type": "markdown",
   "metadata": {},
   "source": [
    "### Ćwiczenie 5\n",
    "Napisz program, który zliczy sumę liczb do zadanego `n`"
   ]
  },
  {
   "cell_type": "code",
   "execution_count": null,
   "metadata": {},
   "outputs": [],
   "source": []
  },
  {
   "cell_type": "markdown",
   "metadata": {},
   "source": [
    "### Ćwiczenie 6\n",
    "Napisz kod, który sprawdzi czy dany element jest elementem listy.\n",
    "Tak jak działa funkcja `in`"
   ]
  },
  {
   "cell_type": "markdown",
   "metadata": {},
   "source": [
    "***\n",
    "\n",
    "#  Pętla while <a name='while'></a>"
   ]
  },
  {
   "cell_type": "code",
   "execution_count": 1,
   "metadata": {},
   "outputs": [
    {
     "name": "stdout",
     "output_type": "stream",
     "text": [
      "Hello\n",
      "Hello\n",
      "Hello\n",
      "Hello\n"
     ]
    }
   ],
   "source": [
    "# definicja"
   ]
  },
  {
   "cell_type": "code",
   "execution_count": null,
   "metadata": {},
   "outputs": [],
   "source": [
    "# zaienić na while\n",
    "end = 5\n",
    "for i in range(end):\n",
    "    print('Hello!', i)\n",
    "    print('Pozostały jeszcze', end - i - 1, 'powitania\\n')\n",
    "print('kod poza petlą')"
   ]
  },
  {
   "cell_type": "code",
   "execution_count": 9,
   "metadata": {},
   "outputs": [
    {
     "data": {
      "text/plain": [
       "[0, 1, 2, 3, 4]"
      ]
     },
     "execution_count": 9,
     "metadata": {},
     "output_type": "execute_result"
    }
   ],
   "source": []
  },
  {
   "cell_type": "markdown",
   "metadata": {},
   "source": [
    "### Ćwiczenie 7\n",
    "Napisz program, który zliczy sumę liczb do zadanego `n`\n",
    "używając pętli `while` (w ćwiczeniu 3 zrobilismy to z pętlą `for`)"
   ]
  },
  {
   "cell_type": "code",
   "execution_count": 12,
   "metadata": {},
   "outputs": [],
   "source": []
  },
  {
   "cell_type": "markdown",
   "metadata": {},
   "source": [
    "### Ćwiczenie 8\n",
    "Napisz program, który spyta użytkownika o wiek.\n",
    "Jeśli wiek < 18, to odmów wstępu i pytaj dalej. \n",
    "Uzyj pętli `while` "
   ]
  },
  {
   "cell_type": "markdown",
   "metadata": {},
   "source": []
  },
  {
   "cell_type": "code",
   "execution_count": null,
   "metadata": {},
   "outputs": [],
   "source": []
  },
  {
   "cell_type": "code",
   "execution_count": null,
   "metadata": {},
   "outputs": [],
   "source": []
  },
  {
   "cell_type": "markdown",
   "metadata": {},
   "source": [
    "***"
   ]
  },
  {
   "cell_type": "markdown",
   "metadata": {},
   "source": [
    "### Ćwiczenie \n",
    "Napisz program, który będzie zadawał liczbe z przedziału `[0, 5]` a użytkownik musi ją zgadnąć.\n",
    "Wykorzystaj pętle `while` i `break`\n",
    "\n",
    "Rozszerzenie: Dodaj linijki kodu informujące użytkonwika czy jego propozycja jest za duza lub za mała"
   ]
  },
  {
   "cell_type": "code",
   "execution_count": null,
   "metadata": {},
   "outputs": [],
   "source": [
    "import random\n",
    "liczba = random.randint(0, 5)\n",
    "print(liczba)"
   ]
  }
 ],
 "metadata": {
  "kernelspec": {
   "display_name": "Python 3",
   "language": "python",
   "name": "python3"
  },
  "language_info": {
   "codemirror_mode": {
    "name": "ipython",
    "version": 3
   },
   "file_extension": ".py",
   "mimetype": "text/x-python",
   "name": "python",
   "nbconvert_exporter": "python",
   "pygments_lexer": "ipython3",
   "version": "3.7.0"
  }
 },
 "nbformat": 4,
 "nbformat_minor": 4
}
