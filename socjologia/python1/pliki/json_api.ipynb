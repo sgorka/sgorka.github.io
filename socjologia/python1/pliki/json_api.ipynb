{
 "cells": [
  {
   "cell_type": "markdown",
   "metadata": {},
   "source": [
    "## Dane \"Jakość Powietrza\" GIOŚ \n",
    "Zaczynamy od wczytania odpowiednich bibliotek"
   ]
  },
  {
   "cell_type": "code",
   "execution_count": 20,
   "metadata": {},
   "outputs": [],
   "source": [
    "import requests, json\n",
    "from pprint import pprint"
   ]
  },
  {
   "cell_type": "markdown",
   "metadata": {},
   "source": [
    "### requests"
   ]
  },
  {
   "cell_type": "code",
   "execution_count": 5,
   "metadata": {},
   "outputs": [],
   "source": [
    "url = 'http://api.gios.gov.pl/pjp-api/rest/station/findAll'"
   ]
  },
  {
   "cell_type": "markdown",
   "metadata": {},
   "source": [
    "### Ćwiczenie\n",
    "Wybierz dowolne miasto. <br>\n",
    "Nastepnie znajdź informacje o stacji/stacjach badawczych w tym mieście"
   ]
  },
  {
   "cell_type": "code",
   "execution_count": 9,
   "metadata": {},
   "outputs": [],
   "source": []
  },
  {
   "cell_type": "markdown",
   "metadata": {},
   "source": [
    "### Ćwiczenie\n",
    "Sprawdź dostępne czujniki na wybranej stacji w mieście z ćwiczenia wyżej"
   ]
  },
  {
   "cell_type": "code",
   "execution_count": null,
   "metadata": {},
   "outputs": [],
   "source": [
    "id_sctacja = ''\n",
    "url_stacja = 'http://api.gios.gov.pl/pjp-api/rest/station/sensors/' + id_sctacja"
   ]
  },
  {
   "cell_type": "markdown",
   "metadata": {},
   "source": [
    "### Ćwiczenie\n",
    "Sprawdź index jakości powietrzaa na wybranej stacji w mieście z ćwiczenia wyżej"
   ]
  },
  {
   "cell_type": "code",
   "execution_count": null,
   "metadata": {},
   "outputs": [],
   "source": []
  },
  {
   "cell_type": "markdown",
   "metadata": {},
   "source": [
    "### Ćwiczenie\n",
    "Stwórz listę wszystkich stacji badawczych. Lista powinna zawierać wszytskie `id`."
   ]
  },
  {
   "cell_type": "code",
   "execution_count": 45,
   "metadata": {},
   "outputs": [],
   "source": []
  },
  {
   "cell_type": "markdown",
   "metadata": {},
   "source": [
    "### Ćwiczenie\n",
    "Sprawdź jakie poziomy osiąga index powietrza\n",
    "1. Napisz kod, który dla wybranej stacji wyświeli poziom powietrza np. dla PM10\n",
    "1. Napisz pętle, w której sprawdzisz status połączenia z indexem pwoietrza\n",
    "    (`response.status_code` dla `url_jakosc = 'http://api.gios.gov.pl/pjp-api/rest/aqindex/getIndex/' + index)`)\n",
    "1. Do powyższej pętli dodaj sprawdzenie poziou indexu jakości powietrza dla np. PM10\n",
    "1. Zmodyfikuj powyższy kod by zapisać wyniki na liście\n",
    "1. Nastepnie na uzyskanej liście użyj funkcji `set`"
   ]
  },
  {
   "cell_type": "code",
   "execution_count": null,
   "metadata": {},
   "outputs": [],
   "source": []
  },
  {
   "cell_type": "code",
   "execution_count": null,
   "metadata": {},
   "outputs": [],
   "source": []
  },
  {
   "cell_type": "markdown",
   "metadata": {},
   "source": [
    "### Ćwiczenie \n",
    "Sprawdź w ilu stacjach jest zły stan powietrza\n",
    "1. Napisz kod, który dla wybranej stacji wyświeli poziom powietrza np. dla PM10\n",
    "1. Napisz pętle, w której sprawdzisz status połączenia z indexem pwoietrza\n",
    "    (`response.status_code` dla `url_jakosc = 'http://api.gios.gov.pl/pjp-api/rest/aqindex/getIndex/' + index)`)\n",
    "1. Do powyższej pętli dodaj sprawdzenie poziomu indexu jakości powietrza dla np. PM10\n",
    "1. Zmodyfikuj powyższy kod by zapisać wyniki na liście, która zawiera poziom jakości powietrza oraz index\n",
    "```python\n",
    "  jakosc.append({\n",
    "            'id': ....,\n",
    "            'level': data_index['pm10IndexLevel'][indexLevelName']\n",
    "        })\n",
    "\n",
    "```"
   ]
  },
  {
   "cell_type": "code",
   "execution_count": null,
   "metadata": {},
   "outputs": [],
   "source": []
  }
 ],
 "metadata": {
  "kernelspec": {
   "display_name": "Python 3",
   "language": "python",
   "name": "python3"
  },
  "language_info": {
   "codemirror_mode": {
    "name": "ipython",
    "version": 3
   },
   "file_extension": ".py",
   "mimetype": "text/x-python",
   "name": "python",
   "nbconvert_exporter": "python",
   "pygments_lexer": "ipython3",
   "version": "3.7.0"
  }
 },
 "nbformat": 4,
 "nbformat_minor": 4
}
