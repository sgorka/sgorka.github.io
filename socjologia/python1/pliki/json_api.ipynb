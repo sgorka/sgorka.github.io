{
 "cells": [
  {
   "cell_type": "markdown",
   "metadata": {},
   "source": [
    "## Dane \"Jakość Powietrza\" GIOŚ \n",
    "Zaczynamy od wczytania odpowiednich bibliotek"
   ]
  },
  {
   "cell_type": "code",
   "execution_count": 2,
   "metadata": {},
   "outputs": [],
   "source": [
    "import requests, json\n",
    "from pprint import pprint"
   ]
  },
  {
   "cell_type": "markdown",
   "metadata": {},
   "source": [
    "### requests"
   ]
  },
  {
   "cell_type": "code",
   "execution_count": 5,
   "metadata": {},
   "outputs": [],
   "source": [
    "url = 'http://api.gios.gov.pl/pjp-api/rest/station/findAll'"
   ]
  },
  {
   "cell_type": "markdown",
   "metadata": {},
   "source": [
    "### Ćwiczenie\n",
    "Wybierz dowolne miasto. <br>\n",
    "Nastepnie znajdź informacje o stacji/stacjach badawczych w tym mieście"
   ]
  },
  {
   "cell_type": "code",
   "execution_count": 3,
   "metadata": {},
   "outputs": [
    {
     "name": "stdout",
     "output_type": "stream",
     "text": [
      "200\n"
     ]
    }
   ],
   "source": [
    "url = 'http://api.gios.gov.pl/pjp-api/rest/station/findAll'\n",
    "response = requests.get(url)\n",
    "print(response.status_code)\n",
    "data = json.loads(response.text)\n"
   ]
  },
  {
   "cell_type": "code",
   "execution_count": 5,
   "metadata": {},
   "outputs": [
    {
     "name": "stdout",
     "output_type": "stream",
     "text": [
      "{'addressStreet': 'al. Niepodległości 227/233',\n",
      " 'city': {'commune': {'communeName': 'Warszawa',\n",
      "                      'districtName': 'Warszawa',\n",
      "                      'provinceName': 'MAZOWIECKIE'},\n",
      "          'id': 1006,\n",
      "          'name': 'Warszawa'},\n",
      " 'gegrLat': '52.219298',\n",
      " 'gegrLon': '21.004724',\n",
      " 'id': 530,\n",
      " 'stationName': 'Warszawa-Komunikacyjna'}\n",
      "{'addressStreet': 'ul. Podleśna 61',\n",
      " 'city': {'commune': {'communeName': 'Warszawa',\n",
      "                      'districtName': 'Warszawa',\n",
      "                      'provinceName': 'MAZOWIECKIE'},\n",
      "          'id': 1006,\n",
      "          'name': 'Warszawa'},\n",
      " 'gegrLat': '52.280939',\n",
      " 'gegrLon': '20.962156',\n",
      " 'id': 531,\n",
      " 'stationName': 'Warszawa-Podleśna'}\n",
      "{'addressStreet': 'ul. Tołstoja 2',\n",
      " 'city': {'commune': {'communeName': 'Warszawa',\n",
      "                      'districtName': 'Warszawa',\n",
      "                      'provinceName': 'MAZOWIECKIE'},\n",
      "          'id': 1006,\n",
      "          'name': 'Warszawa'},\n",
      " 'gegrLat': '52.285073',\n",
      " 'gegrLon': '20.933018',\n",
      " 'id': 538,\n",
      " 'stationName': 'Warszawa-Tołstoja'}\n",
      "{'addressStreet': 'ul. Wokalna 1',\n",
      " 'city': {'commune': {'communeName': 'Warszawa',\n",
      "                      'districtName': 'Warszawa',\n",
      "                      'provinceName': 'MAZOWIECKIE'},\n",
      "          'id': 1006,\n",
      "          'name': 'Warszawa'},\n",
      " 'gegrLat': '52.160772',\n",
      " 'gegrLon': '21.033819',\n",
      " 'id': 550,\n",
      " 'stationName': 'Warszawa-Ursynów'}\n",
      "{'addressStreet': 'ul. Kondratowicza 8',\n",
      " 'city': {'commune': {'communeName': 'Warszawa',\n",
      "                      'districtName': 'Warszawa',\n",
      "                      'provinceName': 'MAZOWIECKIE'},\n",
      "          'id': 1006,\n",
      "          'name': 'Warszawa'},\n",
      " 'gegrLat': '52.290864',\n",
      " 'gegrLon': '21.042458',\n",
      " 'id': 552,\n",
      " 'stationName': 'Warszawa-Targówek'}\n",
      "{'addressStreet': 'Chrościckiego 16/18',\n",
      " 'city': {'commune': {'communeName': 'Warszawa',\n",
      "                      'districtName': 'Warszawa',\n",
      "                      'provinceName': 'MAZOWIECKIE'},\n",
      "          'id': 1006,\n",
      "          'name': 'Warszawa'},\n",
      " 'gegrLat': '52.207742',\n",
      " 'gegrLon': '20.906073',\n",
      " 'id': 10955,\n",
      " 'stationName': 'Warszawa-Chrościckiego'}\n",
      "{'addressStreet': 'Bajkowa 17/21',\n",
      " 'city': {'commune': {'communeName': 'Warszawa',\n",
      "                      'districtName': 'Warszawa',\n",
      "                      'provinceName': 'MAZOWIECKIE'},\n",
      "          'id': 1006,\n",
      "          'name': 'Warszawa'},\n",
      " 'gegrLat': '52.188474',\n",
      " 'gegrLon': '21.176233',\n",
      " 'id': 10956,\n",
      " 'stationName': 'Warszawa-Bajkowa'}\n"
     ]
    }
   ],
   "source": [
    "for stacja in data:\n",
    "    if stacja['city'] is not None:\n",
    "        if stacja['city']['name'] == 'Warszawa':\n",
    "            pprint(stacja)\n",
    "    \n",
    "    \n",
    "    "
   ]
  },
  {
   "cell_type": "markdown",
   "metadata": {},
   "source": [
    "### Ćwiczenie\n",
    "Sprawdź dostępne czujniki na wybranej stacji w mieście z ćwiczenia wyżej"
   ]
  },
  {
   "cell_type": "code",
   "execution_count": 6,
   "metadata": {},
   "outputs": [
    {
     "name": "stdout",
     "output_type": "stream",
     "text": [
      "200\n",
      "[{'id': 3575,\n",
      "  'param': {'idParam': 10,\n",
      "            'paramCode': 'C6H6',\n",
      "            'paramFormula': 'C6H6',\n",
      "            'paramName': 'benzen'},\n",
      "  'stationId': 530},\n",
      " {'id': 3576,\n",
      "  'param': {'idParam': 8,\n",
      "            'paramCode': 'CO',\n",
      "            'paramFormula': 'CO',\n",
      "            'paramName': 'tlenek węgla'},\n",
      "  'stationId': 530},\n",
      " {'id': 3580,\n",
      "  'param': {'idParam': 6,\n",
      "            'paramCode': 'NO2',\n",
      "            'paramFormula': 'NO2',\n",
      "            'paramName': 'dwutlenek azotu'},\n",
      "  'stationId': 530},\n",
      " {'id': 3584,\n",
      "  'param': {'idParam': 3,\n",
      "            'paramCode': 'PM10',\n",
      "            'paramFormula': 'PM10',\n",
      "            'paramName': 'pył zawieszony PM10'},\n",
      "  'stationId': 530},\n",
      " {'id': 3585,\n",
      "  'param': {'idParam': 69,\n",
      "            'paramCode': 'PM2.5',\n",
      "            'paramFormula': 'PM2.5',\n",
      "            'paramName': 'pył zawieszony PM2.5'},\n",
      "  'stationId': 530}]\n"
     ]
    }
   ],
   "source": [
    "id_sctacja = '530'\n",
    "url_stacja = 'http://api.gios.gov.pl/pjp-api/rest/station/sensors/' + id_sctacja\n",
    "response_stacja = requests.get(url_stacja)\n",
    "print(response_stacja.status_code)\n",
    "czujniki = json.loads(response_stacja.text)\n",
    "pprint(czujniki)"
   ]
  },
  {
   "cell_type": "markdown",
   "metadata": {},
   "source": [
    "### Ćwiczenie\n",
    "Sprawdź index jakości powietrzaa na wybranej stacji w mieście z ćwiczenia wyżej"
   ]
  },
  {
   "cell_type": "code",
   "execution_count": 7,
   "metadata": {},
   "outputs": [],
   "source": [
    "id_stacja = '530'\n",
    "url_jakosc = 'http://api.gios.gov.pl/pjp-api/rest/aqindex/getIndex/' + id_stacja"
   ]
  },
  {
   "cell_type": "code",
   "execution_count": 8,
   "metadata": {},
   "outputs": [
    {
     "name": "stdout",
     "output_type": "stream",
     "text": [
      "200\n"
     ]
    }
   ],
   "source": [
    "response_jakosc = requests.get(url_jakosc)\n",
    "print(response_jakosc.status_code)"
   ]
  },
  {
   "cell_type": "code",
   "execution_count": 9,
   "metadata": {},
   "outputs": [
    {
     "name": "stdout",
     "output_type": "stream",
     "text": [
      "{'c6h6CalcDate': '2019-12-28 12:35:18',\n",
      " 'c6h6IndexLevel': {'id': 0, 'indexLevelName': 'Bardzo dobry'},\n",
      " 'c6h6SourceDataDate': '2019-12-28 12:00:00',\n",
      " 'coCalcDate': '2019-12-28 12:35:18',\n",
      " 'coIndexLevel': {'id': 0, 'indexLevelName': 'Bardzo dobry'},\n",
      " 'coSourceDataDate': '2019-12-28 12:00:00',\n",
      " 'id': 530,\n",
      " 'no2CalcDate': 1577532918000,\n",
      " 'no2IndexLevel': {'id': 0, 'indexLevelName': 'Bardzo dobry'},\n",
      " 'no2SourceDataDate': '2019-12-28 12:00:00',\n",
      " 'o3CalcDate': None,\n",
      " 'o3IndexLevel': None,\n",
      " 'o3SourceDataDate': None,\n",
      " 'pm10CalcDate': '2019-12-28 12:35:18',\n",
      " 'pm10IndexLevel': {'id': 1, 'indexLevelName': 'Dobry'},\n",
      " 'pm10SourceDataDate': '2019-12-28 12:00:00',\n",
      " 'pm25CalcDate': '2019-12-28 12:35:18',\n",
      " 'pm25IndexLevel': {'id': 0, 'indexLevelName': 'Bardzo dobry'},\n",
      " 'pm25SourceDataDate': '2019-12-28 12:00:00',\n",
      " 'so2CalcDate': '2019-12-28 12:35:18',\n",
      " 'so2IndexLevel': None,\n",
      " 'so2SourceDataDate': None,\n",
      " 'stCalcDate': '2019-12-28 12:35:18',\n",
      " 'stIndexCrParam': 'PYL',\n",
      " 'stIndexLevel': {'id': 1, 'indexLevelName': 'Dobry'},\n",
      " 'stIndexStatus': True,\n",
      " 'stSourceDataDate': '2019-12-28 12:00:00'}\n"
     ]
    }
   ],
   "source": [
    "pprint(json.loads(response_jakosc.text))"
   ]
  },
  {
   "cell_type": "markdown",
   "metadata": {},
   "source": [
    "### Ćwiczenie\n",
    "Stwórz listę wszystkich stacji badawczych. Lista powinna zawierać wszytskie `id`."
   ]
  },
  {
   "cell_type": "code",
   "execution_count": 10,
   "metadata": {},
   "outputs": [
    {
     "name": "stdout",
     "output_type": "stream",
     "text": [
      "200\n"
     ]
    }
   ],
   "source": [
    "url = 'http://api.gios.gov.pl/pjp-api/rest/station/findAll'\n",
    "response = requests.get(url)\n",
    "print(response.status_code)\n",
    "data = json.loads(response.text)\n"
   ]
  },
  {
   "cell_type": "code",
   "execution_count": 11,
   "metadata": {},
   "outputs": [],
   "source": [
    "id_lista = []\n",
    "for stacja in data:\n",
    "    id_lista.append(stacja['id'])"
   ]
  },
  {
   "cell_type": "markdown",
   "metadata": {},
   "source": [
    "### Ćwiczenie\n",
    "Sprawdź jakie poziomy osiąga index powietrza\n",
    "1. Napisz kod, który dla wybranej stacji wyświeli poziom powietrza np. dla PM10\n",
    "1. Napisz pętle, w której sprawdzisz status połączenia z indexem pwoietrza\n",
    "    (`response.status_code` dla `url_jakosc = 'http://api.gios.gov.pl/pjp-api/rest/aqindex/getIndex/' + index)`)\n",
    "1. Do powyższej pętli dodaj sprawdzenie poziou indexu jakości powietrza dla np. PM10\n",
    "1. Zmodyfikuj powyższy kod by zapisać wyniki na liście\n",
    "1. Nastepnie na uzyskanej liście użyj funkcji `set`"
   ]
  },
  {
   "cell_type": "code",
   "execution_count": 12,
   "metadata": {},
   "outputs": [
    {
     "name": "stdout",
     "output_type": "stream",
     "text": [
      "http://api.gios.gov.pl/pjp-api/rest/aqindex/getIndex/530\n"
     ]
    }
   ],
   "source": [
    "id_stacja = '530'\n",
    "url_jakosc = 'http://api.gios.gov.pl/pjp-api/rest/aqindex/getIndex/' + id_stacja\n",
    "print(url_jakosc)"
   ]
  },
  {
   "cell_type": "code",
   "execution_count": 13,
   "metadata": {},
   "outputs": [
    {
     "name": "stdout",
     "output_type": "stream",
     "text": [
      "200\n"
     ]
    },
    {
     "data": {
      "text/plain": [
       "'Dobry'"
      ]
     },
     "execution_count": 13,
     "metadata": {},
     "output_type": "execute_result"
    }
   ],
   "source": [
    "response_jakosc = requests.get(url_jakosc)\n",
    "print(response.status_code)\n",
    "#pprint(json.loads(response_jakosc.text))\n",
    "data_index = json.loads(response_jakosc.text)\n",
    "data_index['pm10IndexLevel']['indexLevelName']"
   ]
  },
  {
   "cell_type": "code",
   "execution_count": 14,
   "metadata": {
    "collapsed": true,
    "jupyter": {
     "outputs_hidden": true
    }
   },
   "outputs": [
    {
     "name": "stdout",
     "output_type": "stream",
     "text": [
      "200\n",
      "200\n",
      "200\n",
      "200\n",
      "200\n",
      "200\n",
      "200\n",
      "200\n",
      "200\n",
      "200\n",
      "200\n",
      "200\n",
      "200\n",
      "200\n",
      "200\n",
      "200\n",
      "200\n",
      "200\n",
      "200\n",
      "200\n",
      "200\n",
      "200\n",
      "200\n",
      "200\n",
      "200\n",
      "200\n",
      "200\n",
      "200\n",
      "200\n",
      "200\n",
      "200\n",
      "200\n",
      "200\n",
      "200\n",
      "200\n",
      "200\n",
      "200\n",
      "200\n",
      "200\n",
      "200\n",
      "200\n",
      "200\n",
      "200\n",
      "200\n",
      "200\n",
      "200\n",
      "200\n",
      "200\n",
      "200\n",
      "200\n",
      "200\n",
      "200\n",
      "200\n",
      "200\n",
      "200\n",
      "200\n",
      "200\n",
      "200\n",
      "200\n",
      "200\n",
      "200\n",
      "200\n",
      "200\n",
      "200\n",
      "200\n",
      "200\n",
      "200\n",
      "200\n",
      "200\n",
      "200\n",
      "200\n",
      "200\n",
      "200\n",
      "200\n",
      "200\n",
      "200\n",
      "200\n",
      "200\n",
      "200\n",
      "200\n",
      "200\n",
      "200\n",
      "200\n",
      "200\n",
      "200\n",
      "200\n",
      "200\n",
      "200\n",
      "200\n",
      "200\n",
      "200\n",
      "200\n",
      "200\n",
      "200\n",
      "200\n",
      "200\n",
      "200\n",
      "200\n",
      "200\n",
      "200\n",
      "200\n",
      "200\n",
      "200\n",
      "200\n",
      "200\n",
      "200\n",
      "200\n",
      "200\n",
      "200\n",
      "200\n",
      "200\n",
      "200\n",
      "200\n",
      "200\n",
      "200\n",
      "200\n",
      "200\n",
      "200\n",
      "200\n",
      "200\n",
      "200\n",
      "200\n",
      "200\n",
      "200\n",
      "200\n",
      "200\n",
      "200\n",
      "200\n",
      "200\n",
      "200\n",
      "200\n",
      "200\n",
      "200\n",
      "200\n",
      "200\n",
      "200\n",
      "200\n",
      "200\n",
      "200\n",
      "200\n",
      "200\n",
      "200\n",
      "200\n",
      "200\n",
      "200\n",
      "200\n",
      "200\n",
      "200\n",
      "200\n",
      "200\n",
      "200\n",
      "200\n",
      "200\n",
      "200\n",
      "200\n",
      "200\n",
      "200\n",
      "200\n",
      "200\n",
      "200\n",
      "200\n",
      "200\n",
      "200\n",
      "200\n",
      "200\n",
      "200\n",
      "200\n",
      "200\n",
      "200\n",
      "200\n",
      "200\n",
      "200\n",
      "200\n",
      "200\n",
      "200\n",
      "200\n",
      "200\n",
      "200\n",
      "200\n",
      "200\n",
      "200\n",
      "200\n",
      "200\n",
      "200\n",
      "200\n",
      "200\n"
     ]
    }
   ],
   "source": [
    "jakosc = []\n",
    "tmp_list = []\n",
    "for index in id_lista:\n",
    "    url_jakosc = 'http://api.gios.gov.pl/pjp-api/rest/aqindex/getIndex/' + str(index)\n",
    "    response_jakosc = requests.get(url_jakosc)\n",
    "    print(response.status_code)\n",
    "    data_index = json.loads(response_jakosc.text)\n",
    "    if data_index['pm10IndexLevel'] is not None:\n",
    "        jakosc.append({\n",
    "            'id': index,\n",
    "            'level': data_index['pm10IndexLevel']['indexLevelName']\n",
    "        })\n",
    "        tmp_list.append(data_index['pm10IndexLevel']['indexLevelName'])\n",
    "   "
   ]
  },
  {
   "cell_type": "code",
   "execution_count": 15,
   "metadata": {},
   "outputs": [
    {
     "name": "stdout",
     "output_type": "stream",
     "text": [
      "{'Dobry', 'Bardzo dobry'}\n"
     ]
    }
   ],
   "source": [
    "print(set(tmp_list))"
   ]
  },
  {
   "cell_type": "markdown",
   "metadata": {},
   "source": [
    "### Ćwiczenie \n",
    "Sprawdź w ilu stacjach jest zły stan powietrza\n",
    "1. Napisz kod, który dla wybranej stacji wyświeli poziom powietrza np. dla PM10\n",
    "1. Napisz pętle, w której sprawdzisz status połączenia z indexem pwoietrza\n",
    "    (`response.status_code` dla `url_jakosc = 'http://api.gios.gov.pl/pjp-api/rest/aqindex/getIndex/' + index)`)\n",
    "1. Do powyższej pętli dodaj sprawdzenie poziomu indexu jakości powietrza dla np. PM10\n",
    "1. Zmodyfikuj powyższy kod by zapisać wyniki na liście, która zawiera poziom jakości powietrza oraz index\n",
    "```python\n",
    "  jakosc.append({\n",
    "            'id': ....,\n",
    "            'level': data_index['pm10IndexLevel'][indexLevelName']\n",
    "        })\n",
    "\n",
    "```"
   ]
  },
  {
   "cell_type": "code",
   "execution_count": 20,
   "metadata": {},
   "outputs": [
    {
     "name": "stdout",
     "output_type": "stream",
     "text": [
      "13\n"
     ]
    }
   ],
   "source": [
    "count = 0\n",
    "for i in jakosc:\n",
    "    if i['level'] == 'Dobry':\n",
    "        count += 1\n",
    "print(count)"
   ]
  },
  {
   "cell_type": "code",
   "execution_count": null,
   "metadata": {},
   "outputs": [],
   "source": []
  },
  {
   "cell_type": "code",
   "execution_count": null,
   "metadata": {},
   "outputs": [],
   "source": []
  }
 ],
 "metadata": {
  "kernelspec": {
   "display_name": "Python 3",
   "language": "python",
   "name": "python3"
  },
  "language_info": {
   "codemirror_mode": {
    "name": "ipython",
    "version": 3
   },
   "file_extension": ".py",
   "mimetype": "text/x-python",
   "name": "python",
   "nbconvert_exporter": "python",
   "pygments_lexer": "ipython3",
   "version": "3.7.0"
  }
 },
 "nbformat": 4,
 "nbformat_minor": 4
}
