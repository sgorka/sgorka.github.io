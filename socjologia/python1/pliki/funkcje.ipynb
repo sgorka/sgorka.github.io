{
 "cells": [
  {
   "cell_type": "markdown",
   "metadata": {},
   "source": [
    "# Funkcje"
   ]
  },
  {
   "cell_type": "markdown",
   "metadata": {},
   "source": [
    "### Ćwiczenie 1\n",
    "Napisz funkcję, która wypisze komunikat : \"You're the best!\""
   ]
  },
  {
   "cell_type": "code",
   "execution_count": 1,
   "metadata": {},
   "outputs": [],
   "source": [
    "def motivation():\n",
    "    print(\"You're the best!\")"
   ]
  },
  {
   "cell_type": "code",
   "execution_count": 2,
   "metadata": {},
   "outputs": [
    {
     "name": "stdout",
     "output_type": "stream",
     "text": [
      "You're the best!\n"
     ]
    }
   ],
   "source": [
    "motivation()"
   ]
  },
  {
   "cell_type": "markdown",
   "metadata": {},
   "source": [
    "### Ćwiczenie 2\n",
    "Napisz funkcję, która wypisze komunikat : \"You're the best!\" oraz imię użytkownika"
   ]
  },
  {
   "cell_type": "code",
   "execution_count": 3,
   "metadata": {},
   "outputs": [],
   "source": [
    "def motivation(name):\n",
    "    print(name, \",You're the best!\")"
   ]
  },
  {
   "cell_type": "code",
   "execution_count": 4,
   "metadata": {},
   "outputs": [
    {
     "name": "stdout",
     "output_type": "stream",
     "text": [
      "Mark ,You're the best!\n"
     ]
    }
   ],
   "source": [
    "motivation('Mark')"
   ]
  },
  {
   "cell_type": "markdown",
   "metadata": {},
   "source": [
    "### Ćwiczenie 3\n",
    "Napisz funkcję, która wypisze komunikat : \"You're the best!\" oraz imię użytkownika.\n",
    "Gdy go nie poda wyświetli wartość domyślną, 'stranger'"
   ]
  },
  {
   "cell_type": "code",
   "execution_count": 5,
   "metadata": {},
   "outputs": [],
   "source": [
    "def motivation(name='stranger'):\n",
    "    print(name, \",You're the best!\")"
   ]
  },
  {
   "cell_type": "code",
   "execution_count": 6,
   "metadata": {},
   "outputs": [
    {
     "name": "stdout",
     "output_type": "stream",
     "text": [
      "stranger ,You're the best!\n"
     ]
    }
   ],
   "source": [
    "motivation()"
   ]
  },
  {
   "cell_type": "markdown",
   "metadata": {},
   "source": [
    "### Ćwiczenie 4\n",
    "Napisz funkcję, która powita wszystkich z listy imion. <br>\n",
    "Program jako argument dostaje listę imion, a następnie wypisuje powitanie, np. <br>\n",
    "`Hello Mark` <br>\n",
    "`Hello Anne`"
   ]
  },
  {
   "cell_type": "code",
   "execution_count": 2,
   "metadata": {},
   "outputs": [
    {
     "name": "stdout",
     "output_type": "stream",
     "text": [
      "Hello Ania\n",
      "Hello Marek\n"
     ]
    }
   ],
   "source": [
    "lista = ['Ania', 'Marek']\n",
    "print('Hello', lista[0])\n",
    "print('Hello', lista[1])"
   ]
  },
  {
   "cell_type": "code",
   "execution_count": 6,
   "metadata": {},
   "outputs": [],
   "source": [
    "def powitaj(lista_1):\n",
    "    for i in lista_1:\n",
    "        print('Hello', i)\n"
   ]
  },
  {
   "cell_type": "code",
   "execution_count": 8,
   "metadata": {},
   "outputs": [
    {
     "name": "stdout",
     "output_type": "stream",
     "text": [
      "Hello Ania\n",
      "Hello Marek\n",
      "Hello John\n"
     ]
    }
   ],
   "source": [
    "lista_imion = ['Ania', 'Marek', 'John']\n",
    "powitaj(lista_imion)"
   ]
  },
  {
   "cell_type": "markdown",
   "metadata": {},
   "source": [
    "### Ćwiczenie 5\n",
    "Napisz funkcję `potegi_10`, która zwróci n-tą potegę liczby 10"
   ]
  },
  {
   "cell_type": "code",
   "execution_count": 9,
   "metadata": {},
   "outputs": [],
   "source": [
    "def potegi_10(x):\n",
    "    liczba = 10**x\n",
    "    return liczba"
   ]
  },
  {
   "cell_type": "code",
   "execution_count": 10,
   "metadata": {},
   "outputs": [
    {
     "data": {
      "text/plain": [
       "100"
      ]
     },
     "execution_count": 10,
     "metadata": {},
     "output_type": "execute_result"
    }
   ],
   "source": [
    "potegi_10(2)"
   ]
  },
  {
   "cell_type": "markdown",
   "metadata": {},
   "source": [
    "### Ćwiczenie 6 \n",
    "Napisz funkcję `potegi`, która zwróci n-tą potęgę danej liczby. "
   ]
  },
  {
   "cell_type": "code",
   "execution_count": 13,
   "metadata": {},
   "outputs": [],
   "source": [
    "def potegi(liczba, n):\n",
    "    print('Licbza:', liczba)\n",
    "    print('wykładnik:', n)\n",
    "    return liczba ** n"
   ]
  },
  {
   "cell_type": "code",
   "execution_count": 16,
   "metadata": {},
   "outputs": [
    {
     "name": "stdout",
     "output_type": "stream",
     "text": [
      "Licbza: 10\n",
      "wykładnik: 2\n"
     ]
    }
   ],
   "source": [
    "x = potegi(10, 2)\n",
    "#print(x)"
   ]
  },
  {
   "cell_type": "markdown",
   "metadata": {},
   "source": [
    "### Ćwiczenie 6\n",
    "Napisz funckję, która jako argument przyjmuje listę i zwraca  listę z uniklanymi elementami."
   ]
  },
  {
   "cell_type": "code",
   "execution_count": 27,
   "metadata": {},
   "outputs": [],
   "source": [
    "def unique_list(lista):\n",
    "    x = []\n",
    "    for i in lista:\n",
    "        if i not in x:\n",
    "            x.append(i)\n",
    "            print(x)\n",
    "    return x"
   ]
  },
  {
   "cell_type": "code",
   "execution_count": 28,
   "metadata": {},
   "outputs": [
    {
     "name": "stdout",
     "output_type": "stream",
     "text": [
      "[0]\n",
      "[0, 1]\n",
      "[0, 1, 2]\n",
      "[0, 1, 2, 5]\n"
     ]
    },
    {
     "data": {
      "text/plain": [
       "[0, 1, 2, 5]"
      ]
     },
     "execution_count": 28,
     "metadata": {},
     "output_type": "execute_result"
    }
   ],
   "source": [
    "unique_list([0,0,1,1,2,5,0])"
   ]
  },
  {
   "cell_type": "markdown",
   "metadata": {},
   "source": [
    "### Ćwiczenie 7\n",
    "Napisz funkcję `join_two_strings`, która połaczy dwa napisy w jeden\n"
   ]
  },
  {
   "cell_type": "code",
   "execution_count": 7,
   "metadata": {},
   "outputs": [],
   "source": [
    "def join_two_string(a,b):\n",
    "    return a+b"
   ]
  },
  {
   "cell_type": "code",
   "execution_count": 8,
   "metadata": {},
   "outputs": [
    {
     "data": {
      "text/plain": [
       "'cześć'"
      ]
     },
     "execution_count": 8,
     "metadata": {},
     "output_type": "execute_result"
    }
   ],
   "source": [
    "join_two_string('cze', 'ść')"
   ]
  },
  {
   "cell_type": "code",
   "execution_count": 9,
   "metadata": {},
   "outputs": [
    {
     "data": {
      "text/plain": [
       "'śćcze'"
      ]
     },
     "execution_count": 9,
     "metadata": {},
     "output_type": "execute_result"
    }
   ],
   "source": [
    "a = 'cze' # to jest inne a niż w definicji w funkcji\n",
    "b = 'ść' # to jest inne b niż w definicji w funkcji\n",
    "join_two_string(b, a)\n",
    "# raczej nie nazywajmy zmiennych globalnych (zdefiniowanych poza funkcją) tak samo jak argumenty funkcji\n"
   ]
  },
  {
   "cell_type": "code",
   "execution_count": 10,
   "metadata": {},
   "outputs": [],
   "source": [
    "def join_two_string(napis1,napis2):\n",
    "    return napis1+napis2"
   ]
  },
  {
   "cell_type": "markdown",
   "metadata": {},
   "source": [
    "### Ćwiczenie 8\n",
    "Napisz funkcję `join_three_strings`, która połączy trzy napisy w jeden\n",
    "wykorzystując funkcję `join_two_strings`"
   ]
  },
  {
   "cell_type": "code",
   "execution_count": 11,
   "metadata": {},
   "outputs": [],
   "source": [
    "def join_three_strings(napis1, napis2, napis3):\n",
    "    napis = join_two_string(napis1, napis2)\n",
    "    wynik = join_two_string(napis, napis3)\n",
    "    return wynik"
   ]
  },
  {
   "cell_type": "code",
   "execution_count": 13,
   "metadata": {},
   "outputs": [
    {
     "data": {
      "text/plain": [
       "'cześć'"
      ]
     },
     "execution_count": 13,
     "metadata": {},
     "output_type": "execute_result"
    }
   ],
   "source": [
    "join_three_strings(\"cz\", 'e', 'ść')"
   ]
  },
  {
   "cell_type": "markdown",
   "metadata": {},
   "source": [
    "### Ćwiczenie 9\n",
    "Napisz funkcję, która wypsize napis od końca używając pętli `while`"
   ]
  },
  {
   "cell_type": "code",
   "execution_count": 31,
   "metadata": {},
   "outputs": [
    {
     "name": "stdout",
     "output_type": "stream",
     "text": [
      "o\n",
      "l\n",
      "l\n",
      "e\n",
      "h\n"
     ]
    }
   ],
   "source": [
    "napis = 'hello'\n",
    "dlugosc = len(napis)\n",
    "i = dlugosc\n",
    "while i > 0:\n",
    "    print(napis[i-1])\n",
    "    i = i - 1"
   ]
  },
  {
   "cell_type": "markdown",
   "metadata": {},
   "source": [
    "### Ćwiczenie 10\n",
    "Napisz funkcję `co_zabrac`, która ma dwa argumenty\n",
    "temperature i opad.\n",
    "co_zabrac(15, 'tak') <br>\n",
    "-> \"czapka = nie bierz, kurtka = weź\"  <br>\n",
    "temp < 15 i opad='tak' to  <br>\n",
    "    czakpa = weź i kurtka = weź  <br>\n",
    "jeśli temp >= 15 i opad = 'nie'  <br>\n",
    "    to czapka = nie bierz, kurtka = nie bierz  <br>\n",
    " jesli opad = 'tak' to kurtka = weź"
   ]
  },
  {
   "cell_type": "code",
   "execution_count": 18,
   "metadata": {},
   "outputs": [],
   "source": [
    "def co_zabrac(temperatura, opad):\n",
    "    czapka = ''\n",
    "    kurtka = ''\n",
    "    if temperatura < 15 and opad == \"tak\":\n",
    "        czapka = 'weź'\n",
    "        kurtka = 'weź'\n",
    "    elif temperatura >= 15 and opad == \"nie\":\n",
    "        czapka = 'nie bierz'\n",
    "        kurtka = 'nie bierz'\n",
    "    elif opad == 'tak':\n",
    "        kurtka = 'weź'\n",
    "        czapka = 'jak chcesz'\n",
    "    else: # tego nie ma w poelceniu, ale jakby podać arguemnty poza powyższymi zakresami też chcielibyśmy jakąś odpowiedź\n",
    "        kurtka = 'jak chcesz'\n",
    "        czapka = 'jak chcesz'\n",
    "    print('krutka:', kurtka, '\\nczapka:', czapka)"
   ]
  },
  {
   "cell_type": "code",
   "execution_count": 19,
   "metadata": {},
   "outputs": [
    {
     "name": "stdout",
     "output_type": "stream",
     "text": [
      "krutka: jak chcesz \n",
      "czapka: jak chcesz\n"
     ]
    }
   ],
   "source": [
    "co_zabrac(1, 'nie')"
   ]
  },
  {
   "cell_type": "code",
   "execution_count": null,
   "metadata": {},
   "outputs": [],
   "source": []
  }
 ],
 "metadata": {
  "kernelspec": {
   "display_name": "Python 3",
   "language": "python",
   "name": "python3"
  },
  "language_info": {
   "codemirror_mode": {
    "name": "ipython",
    "version": 3
   },
   "file_extension": ".py",
   "mimetype": "text/x-python",
   "name": "python",
   "nbconvert_exporter": "python",
   "pygments_lexer": "ipython3",
   "version": "3.7.0"
  }
 },
 "nbformat": 4,
 "nbformat_minor": 4
}
