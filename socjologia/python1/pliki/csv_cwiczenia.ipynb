{
 "cells": [
  {
   "cell_type": "markdown",
   "metadata": {},
   "source": [
    "# CSV\n"
   ]
  },
  {
   "cell_type": "markdown",
   "metadata": {},
   "source": [
    "Zacznijmy od ustalenia katalogu roboczego"
   ]
  },
  {
   "cell_type": "code",
   "execution_count": 2,
   "metadata": {},
   "outputs": [
    {
     "data": {
      "text/plain": [
       "'E:\\\\python_socjologia\\\\python\\\\zajecia08'"
      ]
     },
     "execution_count": 2,
     "metadata": {},
     "output_type": "execute_result"
    }
   ],
   "source": [
    "import os\n",
    "os.getcwd()\n"
   ]
  },
  {
   "cell_type": "code",
   "execution_count": null,
   "metadata": {},
   "outputs": [],
   "source": []
  },
  {
   "cell_type": "markdown",
   "metadata": {},
   "source": [
    "Wczytanie pliku:0"
   ]
  },
  {
   "cell_type": "code",
   "execution_count": 4,
   "metadata": {},
   "outputs": [
    {
     "name": "stdout",
     "output_type": "stream",
     "text": [
      "['Imię;liczba osób\\n', 'ZOFIA;90\\n', 'HANNA;86\\n', 'ZUZANNA;86\\n', 'MAJA;82\\n', 'ALICJA;78\\n', 'LENA;74\\n']\n"
     ]
    }
   ],
   "source": [
    "filename = 'probka.csv'\n",
    "with open(filename) as plik: # domyślny tryb to 'r'\n",
    "    print(plik.readlines())"
   ]
  },
  {
   "cell_type": "code",
   "execution_count": 5,
   "metadata": {},
   "outputs": [
    {
     "name": "stdout",
     "output_type": "stream",
     "text": [
      "Imię;liczba osób\n",
      "\n",
      "ZOFIA;90\n",
      "\n",
      "HANNA;86\n",
      "\n",
      "ZUZANNA;86\n",
      "\n",
      "MAJA;82\n",
      "\n",
      "ALICJA;78\n",
      "\n",
      "LENA;74\n",
      "\n"
     ]
    }
   ],
   "source": [
    "filename = 'probka.csv'\n",
    "with open(filename) as plik: # domyślny tryb to 'r'\n",
    "    data = plik.readlines()\n",
    "    for line in data:\n",
    "        print(line)"
   ]
  },
  {
   "cell_type": "markdown",
   "metadata": {},
   "source": [
    "### Ćwiczenie 1\n",
    "Napisz program, który wypisze <br>\n",
    "`Wiersz 1: '1 linijka z pliku'` <br>\n",
    "`Wiersz 2: '2 linijka z pliku'`"
   ]
  },
  {
   "cell_type": "code",
   "execution_count": 3,
   "metadata": {},
   "outputs": [
    {
     "name": "stdout",
     "output_type": "stream",
     "text": [
      "['Imię;liczba osób']\n",
      "['ZOFIA;90']\n",
      "['HANNA;86']\n",
      "['ZUZANNA;86']\n",
      "['MAJA;82']\n",
      "['ALICJA;78']\n",
      "['LENA;74']\n",
      "<class '_csv.reader'>\n"
     ]
    }
   ],
   "source": [
    "import csv\n",
    "with open('probka.csv') as csv_file:\n",
    "    csv_content = csv.reader(csv_file)\n",
    "    for row in csv_content:\n",
    "        print(row)\n",
    "    print(type(csv_content))"
   ]
  },
  {
   "cell_type": "markdown",
   "metadata": {},
   "source": [
    "Powyżej widać, że plik wczytał się żle. Program nie rozdzielił danych, aby to poprawić trzeba określić `delimiter`, znak,, którym są oddzielone dane"
   ]
  },
  {
   "cell_type": "code",
   "execution_count": 9,
   "metadata": {},
   "outputs": [
    {
     "name": "stdout",
     "output_type": "stream",
     "text": [
      "['Imię', 'liczba osób']\n",
      "['ZOFIA', '90']\n",
      "['HANNA', '86']\n",
      "['ZUZANNA', '86']\n",
      "['MAJA', '82']\n",
      "['ALICJA', '78']\n",
      "['LENA', '74']\n",
      "<class '_csv.reader'>\n"
     ]
    }
   ],
   "source": [
    "dane = []\n",
    "with open('probka.csv') as csv_file:\n",
    "    csv_content = csv.reader(csv_file, delimiter=';')\n",
    "    for row in csv_content:\n",
    "        print(row)\n",
    "        dane.append(row)\n",
    "    print(type(csv_content))"
   ]
  },
  {
   "cell_type": "markdown",
   "metadata": {},
   "source": [
    "### Ćwiczenie 2\n",
    "Wczytaj plik `imiona_gdansk_2015.csv`"
   ]
  },
  {
   "cell_type": "code",
   "execution_count": 4,
   "metadata": {},
   "outputs": [
    {
     "name": "stdout",
     "output_type": "stream",
     "text": [
      "Total no. of rows:  386\n",
      "[['Imię', 'liczba osób']]\n",
      "[['ZOFIA', '90'], ['HANNA', '86'], ['ZUZANNA', '86'], ['MAJA', '82'], ['ALICJA', '78']]\n"
     ]
    }
   ],
   "source": [
    "rows = []\n",
    "fields = []\n",
    "with open('imiona_gdansk_2015.csv') as csv_file:\n",
    "    csv_content = csv.reader(csv_file, delimiter=';')\n",
    "    count = 0\n",
    "    for row in csv_content:\n",
    "        if count == 0:\n",
    "            fields.append(row)\n",
    "        else:\n",
    "            rows.append(row)\n",
    "        count += 1\n",
    "    print(\"Total no. of rows: \", (csv_content.line_num)) \n",
    "\n",
    "print(fields)\n",
    "print(rows[0:5])"
   ]
  },
  {
   "cell_type": "markdown",
   "metadata": {},
   "source": [
    "### Zadanie\n",
    "Napisz funkcję `head`, która wyświetli domyślnie 5 pierwszych linijek z pliku"
   ]
  },
  {
   "cell_type": "code",
   "execution_count": 13,
   "metadata": {},
   "outputs": [],
   "source": [
    "def head(lista1, n=5):\n",
    "    for row in lista1[0:n]:\n",
    "        #print(row)\n",
    "        for col in row: \n",
    "              print(\"{:15}\".format(col, n=n), end='') # format, służy tylko lepszemu wyświetlaniu\n",
    "        print('')\n",
    "        "
   ]
  },
  {
   "cell_type": "code",
   "execution_count": 14,
   "metadata": {},
   "outputs": [
    {
     "name": "stdout",
     "output_type": "stream",
     "text": [
      "ZOFIA          90             \n",
      "HANNA          86             \n",
      "ZUZANNA        86             \n",
      "MAJA           82             \n",
      "ALICJA         78             \n"
     ]
    }
   ],
   "source": [
    "head(rows)"
   ]
  },
  {
   "cell_type": "markdown",
   "metadata": {},
   "source": [
    "### Ćwiczenie 3\n",
    "Napisz program, który znajdzie najdłuższe imię z wczytanych"
   ]
  },
  {
   "cell_type": "code",
   "execution_count": 5,
   "metadata": {},
   "outputs": [],
   "source": [
    "# wczytajmy plik\n",
    "imiona = []\n",
    "wystapienia = []\n",
    "with open('imiona_gdansk_2015.csv') as file:\n",
    "    csv_content = csv.DictReader(file, delimiter=';')\n",
    "    for row in csv_content:\n",
    "        imiona.append(row.get('Imię'))\n",
    "        wystapienia.append(row.get('liczba osób'))"
   ]
  },
  {
   "cell_type": "code",
   "execution_count": 16,
   "metadata": {},
   "outputs": [
    {
     "name": "stdout",
     "output_type": "stream",
     "text": [
      "['ZOFIA', 'HANNA', 'ZUZANNA', 'MAJA', 'ALICJA']\n"
     ]
    }
   ],
   "source": [
    "print(imiona[0:5])"
   ]
  },
  {
   "cell_type": "code",
   "execution_count": 38,
   "metadata": {},
   "outputs": [],
   "source": [
    "def dl(e):\n",
    "    return len(e)"
   ]
  },
  {
   "cell_type": "code",
   "execution_count": 6,
   "metadata": {},
   "outputs": [
    {
     "name": "stdout",
     "output_type": "stream",
     "text": [
      "ZOFIA\n",
      "ZUZANNA\n",
      "ALEKSANDRA\n",
      "MAKSYMILIAN\n",
      "\n",
      "Najdłuższe imię to MAKSYMILIAN\n"
     ]
    }
   ],
   "source": [
    "# znajdżmy najdłuższe imię\n",
    "max_name = ''\n",
    "for name in imiona:\n",
    "    if len(name) > len(max_name):\n",
    "        max_name = name\n",
    "        print(max_name)\n",
    "\n",
    "print('\\nNajdłuższe imię to', max_name)    \n"
   ]
  },
  {
   "cell_type": "markdown",
   "metadata": {},
   "source": [
    "### Ćwiczenie 4\n",
    "Napisz program, który znajdzie Twoje imię na liście"
   ]
  },
  {
   "cell_type": "code",
   "execution_count": 21,
   "metadata": {},
   "outputs": [
    {
     "data": {
      "text/plain": [
       "True"
      ]
     },
     "execution_count": 21,
     "metadata": {},
     "output_type": "execute_result"
    }
   ],
   "source": [
    "'SZYMON' in imiona"
   ]
  },
  {
   "cell_type": "markdown",
   "metadata": {},
   "source": [
    "### Ćwiczenie 5\n",
    "Napisz program, który znajdzie Twoje imię na liście i liczbę ośób, którym nadano to imię"
   ]
  },
  {
   "cell_type": "code",
   "execution_count": 23,
   "metadata": {
    "collapsed": true,
    "jupyter": {
     "outputs_hidden": true
    }
   },
   "outputs": [
    {
     "name": "stdout",
     "output_type": "stream",
     "text": [
      "['Imię', 'liczba osób']\n",
      "['ZOFIA', '90']\n",
      "['HANNA', '86']\n",
      "['ZUZANNA', '86']\n",
      "['MAJA', '82']\n",
      "['ALICJA', '78']\n",
      "['LENA', '74']\n",
      "['JULIA', '72']\n",
      "['NATALIA', '66']\n",
      "['AMELIA', '58']\n",
      "['ALEKSANDRA', '55']\n",
      "['MARIA', '51']\n",
      "['LILIANA', '50']\n",
      "['ANNA', '49']\n",
      "['WIKTORIA', '44']\n",
      "['OLIWIA', '43']\n",
      "['IGA', '41']\n",
      "['POLA', '40']\n",
      "['AGATA', '38']\n",
      "['NINA', '36']\n",
      "['HELENA', '35']\n",
      "['ANTONINA', '33']\n",
      "['EMILIA', '33']\n",
      "['WERONIKA', '28']\n",
      "['MARTYNA', '26']\n",
      "['NADIA', '26']\n",
      "['MICHALINA', '25']\n",
      "['KORNELIA', '23']\n",
      "['LAURA', '23']\n",
      "['MAGDALENA', '22']\n",
      "['MARTA', '22']\n",
      "['JAGODA', '21']\n",
      "['MAŁGORZATA', '21']\n",
      "['NIKOLA', '20']\n",
      "['MILENA', '19']\n",
      "['BARBARA', '18']\n",
      "['KINGA', '18']\n",
      "['ŁUCJA', '18']\n",
      "['URSZULA', '18']\n",
      "['KALINA', '16']\n",
      "['LIDIA', '16']\n",
      "['KAROLINA', '15']\n",
      "['PAULINA', '15']\n",
      "['LILIANNA', '14']\n",
      "['MATYLDA', '14']\n",
      "['KAJA', '13']\n",
      "['SARA', '13']\n",
      "['EWA', '12']\n",
      "['MARCELINA', '12']\n",
      "['MARIANNA', '12']\n",
      "['ANASTAZJA', '11']\n",
      "['BLANKA', '11']\n",
      "['NELA', '11']\n",
      "['ANIELA', '10']\n",
      "['DOMINIKA', '10']\n",
      "['GABRIELA', '10']\n",
      "['KATARZYNA', '10']\n",
      "['LIWIA', '10']\n",
      "['IDA', '9']\n",
      "['JOANNA', '9']\n",
      "['RITA', '9']\n",
      "['BIANKA', '8']\n",
      "['KLARA', '8']\n",
      "['KLAUDIA', '8']\n",
      "['RÓŻA', '8']\n",
      "['DOROTA', '7']\n",
      "['ELIZA', '7']\n",
      "['ROZALIA', '7']\n",
      "['APOLONIA', '6']\n",
      "['MALWINA', '6']\n",
      "['OLGA', '6']\n",
      "['PATRYCJA', '6']\n",
      "['ADRIANNA', '5']\n",
      "['AGNIESZKA', '5']\n",
      "['ELŻBIETA', '5']\n",
      "['JADWIGA', '5']\n",
      "['TOLA', '5']\n",
      "['EMMA', '4']\n",
      "['IZABELA', '4']\n",
      "['JULIANNA', '4']\n",
      "['MARIKA', '4']\n",
      "['MIA', '4']\n",
      "['WANDA', '4']\n",
      "['ADA', '3']\n",
      "['CECYLIA', '3']\n",
      "['CELINA', '3']\n",
      "['DANUTA', '3']\n",
      "['JAGNA', '3']\n",
      "['KAMILA', '3']\n",
      "['KONSTANCJA', '3']\n",
      "['LEA', '3']\n",
      "['LILIA', '3']\n",
      "['MARLENA', '3']\n",
      "['NATASZA', '3']\n",
      "['NEL', '3']\n",
      "['ROKSANA', '3']\n",
      "['TERESA', '3']\n",
      "['VICTORIA', '3']\n",
      "['ADELA', '2']\n",
      "['ANTONIA', '2']\n",
      "['AURELIA', '2']\n",
      "['BRYGIDA', '2']\n",
      "['GAJA', '2']\n",
      "['HALINA', '2']\n",
      "['IDALIA', '2']\n",
      "['INKA', '2']\n",
      "['IRENA', '2']\n",
      "['IZABELLA', '2']\n",
      "['JAŚMINA', '2']\n",
      "['JULITA', '2']\n",
      "['JUSTYNA', '2']\n",
      "['KASANDRA', '2']\n",
      "['KRYSTYNA', '2']\n",
      "['LARYSA', '2']\n",
      "['LATIKA', '2']\n",
      "['LILA', '2']\n",
      "['LUIZA', '2']\n",
      "['MAGDA', '2']\n",
      "['MAYA', '2']\n",
      "['MIKA', '2']\n",
      "['MILA', '2']\n",
      "['MONIKA', '2']\n",
      "['OKSANA', '2']\n",
      "['OLIMPIA', '2']\n",
      "['OLIVIA', '2']\n",
      "['PAULA', '2']\n",
      "['TAMARA', '2']\n",
      "['VANESSA', '2']\n",
      "['ABRIL', '1']\n",
      "['ALICIA', '1']\n",
      "['ALINA', '1']\n",
      "['AMANDA', '1']\n",
      "['AWERYLLA', '1']\n",
      "['BERENIKA', '1']\n",
      "['BIBIANA', '1']\n",
      "['BOGUMIŁA', '1']\n",
      "['CARMEN', '1']\n",
      "['CELESTYNA', '1']\n",
      "['CLARISSA', '1']\n",
      "['DAGMARA', '1']\n",
      "['DAGNA', '1']\n",
      "['DALIA', '1']\n",
      "['DARIA', '1']\n",
      "['DIANA', '1']\n",
      "['DOBROCHNA', '1']\n",
      "['ESTER', '1']\n",
      "['ESTERA', '1']\n",
      "['FELICJA', '1']\n",
      "['FRANCISZKA', '1']\n",
      "['GRACJA', '1']\n",
      "['GRETA', '1']\n",
      "['HANA', '1']\n",
      "['ILARIA', '1']\n",
      "['ILONA', '1']\n",
      "['INA', '1']\n",
      "['INEZ', '1']\n",
      "['INGA', '1']\n",
      "['IRLA', '1']\n",
      "['JANA', '1']\n",
      "['JANINA', '1']\n",
      "['JOWITA', '1']\n",
      "['JÓZEFINA', '1']\n",
      "['JUDYTA', '1']\n",
      "['KARINA', '1']\n",
      "['KAYA', '1']\n",
      "['KIARA', '1']\n",
      "['KIRA', '1']\n",
      "['KLEMENTYNA', '1']\n",
      "['LAILA', '1']\n",
      "['LARA', '1']\n",
      "['LEILA', '1']\n",
      "['LEONORA', '1']\n",
      "['LETYCJA', '1']\n",
      "['LILI', '1']\n",
      "['LIVIA', '1']\n",
      "['LUCYNA', '1']\n",
      "['MALENA', '1']\n",
      "['MALINA', '1']\n",
      "['MARCJANNA', '1']\n",
      "['MARISSA', '1']\n",
      "['MASZA', '1']\n",
      "['MIŁA', '1']\n",
      "['MIRA', '1']\n",
      "['MIRIAM', '1']\n",
      "['NEWENA', '1']\n",
      "['OLA', '1']\n",
      "['ROXANA', '1']\n",
      "['SABINA', '1']\n",
      "['SAMANTA', '1']\n",
      "['SANDRA', '1']\n",
      "['SELENA', '1']\n",
      "['SIMAR', '1']\n",
      "['STEFANIA', '1']\n",
      "['STELLA', '1']\n",
      "['TANAE', '1']\n",
      "['TIMEA', '1']\n",
      "['VIVIENNE', '1']\n",
      "['WALENTYNA', '1']\n",
      "['WERA', '1']\n",
      "['WIERA', '1']\n",
      "['ZOE', '1']\n",
      "['ZOJA', '1']\n",
      "['JAN', '105']\n",
      "['JAKUB', '94']\n",
      "['ALEKSANDER', '87']\n",
      "['FRANCISZEK', '82']\n",
      "['KACPER', '75']\n",
      "['ANTONI', '73']\n",
      "['MICHAŁ', '70']\n",
      "['SZYMON', '65']\n",
      "['STANISŁAW', '62']\n",
      "['WOJCIECH', '60']\n",
      "['ADAM', '55']\n",
      "['MIKOŁAJ', '54']\n",
      "['FILIP', '51']\n",
      "['LEON', '50']\n",
      "['WIKTOR', '49']\n",
      "['NIKODEM', '46']\n",
      "['TOMASZ', '44']\n",
      "['MATEUSZ', '40']\n",
      "['MARCEL', '39']\n",
      "['JULIAN', '37']\n",
      "['TYMON', '37']\n",
      "['IGNACY', '36']\n",
      "['BARTOSZ', '35']\n",
      "['PIOTR', '35']\n",
      "['TYMOTEUSZ', '35']\n",
      "['MACIEJ', '33']\n",
      "['IGOR', '32']\n",
      "['MAKSYMILIAN', '30']\n",
      "['HUBERT', '29']\n",
      "['OSKAR', '29']\n",
      "['DOMINIK', '28']\n",
      "['KRZYSZTOF', '28']\n",
      "['OLIWIER', '27']\n",
      "['DAWID', '26']\n",
      "['PAWEŁ', '20']\n",
      "['MIŁOSZ', '17']\n",
      "['KAMIL', '16']\n",
      "['NATAN', '16']\n",
      "['KONRAD', '15']\n",
      "['ŁUKASZ', '15']\n",
      "['ALAN', '14']\n",
      "['KAROL', '14']\n",
      "['GRZEGORZ', '13']\n",
      "['KSAWERY', '13']\n",
      "['KUBA', '13']\n",
      "['BARTŁOMIEJ', '12']\n",
      "['BORYS', '12']\n",
      "['DANIEL', '12']\n",
      "['SEBASTIAN', '12']\n",
      "['PATRYK', '11']\n",
      "['ROBERT', '11']\n",
      "['CEZARY', '10']\n",
      "['ERYK', '10']\n",
      "['IWO', '10']\n",
      "['JEREMI', '10']\n",
      "['MILAN', '10']\n",
      "['ARTUR', '9']\n",
      "['FABIAN', '9']\n",
      "['HENRYK', '9']\n",
      "['MARCIN', '9']\n",
      "['OLAF', '9']\n",
      "['ADRIAN', '8']\n",
      "['BRUNO', '8']\n",
      "['GABRIEL', '8']\n",
      "['KAJETAN', '8']\n",
      "['MAREK', '8']\n",
      "['STEFAN', '8']\n",
      "['TOBIASZ', '8']\n",
      "['JERZY', '7']\n",
      "['KAZIMIERZ', '7']\n",
      "['KONSTANTY', '7']\n",
      "['LEONARD', '7']\n",
      "['PRZEMYSŁAW', '7']\n",
      "['TEODOR', '7']\n",
      "['WITOLD', '7']\n",
      "['ALEX', '6']\n",
      "['DORIAN', '6']\n",
      "['GUSTAW', '6']\n",
      "['KRYSTIAN', '6']\n",
      "['RYSZARD', '6']\n",
      "['TADEUSZ', '6']\n",
      "['ARKADIUSZ', '5']\n",
      "['DAMIAN', '5']\n",
      "['EMIL', '5']\n",
      "['TYTUS', '5']\n",
      "['ANDRZEJ', '4']\n",
      "['BŁAŻEJ', '4']\n",
      "['FRYDERYK', '4']\n",
      "['JÓZEF', '4']\n",
      "['KORNEL', '4']\n",
      "['RAFAŁ', '4']\n",
      "['BENIAMIN', '3']\n",
      "['BERNARD', '3']\n",
      "['DARIUSZ', '3']\n",
      "['DAVID', '3']\n",
      "['JANUSZ', '3']\n",
      "['JĘDRZEJ', '3']\n",
      "['JULIUSZ', '3']\n",
      "['LUDWIK', '3']\n",
      "['MIESZKO', '3']\n",
      "['NATANIEL', '3']\n",
      "['NORBERT', '3']\n",
      "['RADOSŁAW', '3']\n",
      "['VINCENT', '3']\n",
      "['WŁADYSŁAW', '3']\n",
      "['AARON', '2']\n",
      "['ALBERT', '2']\n",
      "['ALEXANDER', '2']\n",
      "['BOGUSŁAW', '2']\n",
      "['EDWARD', '2']\n",
      "['FELIKS', '2']\n",
      "['FLORIAN', '2']\n",
      "['IVO', '2']\n",
      "['KASJAN', '2']\n",
      "['OLIVIER', '2']\n",
      "['REMIGIUSZ', '2']\n",
      "['SEWERYN', '2']\n",
      "['VICTOR', '2']\n",
      "['WINCENTY', '2']\n",
      "['ZBIGNIEW', '2']\n",
      "['ABDULLATIF', '1']\n",
      "['AITEN', '1']\n",
      "['ALEK', '1']\n",
      "['ALEKS', '1']\n",
      "['ARIEL', '1']\n",
      "['ARISTOTELIS', '1']\n",
      "['ARON', '1']\n",
      "['BALTAZAR', '1']\n",
      "['BASTIAN', '1']\n",
      "['BENEDYKT', '1']\n",
      "['BENJAMIN', '1']\n",
      "['BOGDAN', '1']\n",
      "['BOGUMIŁ', '1']\n",
      "['BOLESŁAW', '1']\n",
      "['BRAJAN', '1']\n",
      "['BRUNON', '1']\n",
      "['BRYAN', '1']\n",
      "['CHARLES', '1']\n",
      "['CZESŁAW', '1']\n",
      "['EDWIN', '1']\n",
      "['EMILIAN', '1']\n",
      "['ERNEST', '1']\n",
      "['GEORG', '1']\n",
      "['GNIEWKO', '1']\n",
      "['GNIEWOSZ', '1']\n",
      "['HUGO', '1']\n",
      "['JACEK', '1']\n",
      "['JAROSŁAW', '1']\n",
      "['JOACHIM', '1']\n",
      "['JOEL', '1']\n",
      "['KARIM', '1']\n",
      "['KASPER', '1']\n",
      "['KAYSON', '1']\n",
      "['KORDIAN', '1']\n",
      "['KOSMA', '1']\n",
      "['KRZESIMIR', '1']\n",
      "['KSAWIER', '1']\n",
      "['LENART', '1']\n",
      "['LEO', '1']\n",
      "['LEONARDO', '1']\n",
      "['LESZEK', '1']\n",
      "['MA CIEJ', '1']\n",
      "['MAKS', '1']\n",
      "['MAKSYM', '1']\n",
      "['MARIO', '1']\n",
      "['MAURYCY', '1']\n",
      "['MAXIMILIAN', '1']\n",
      "['MAXYM', '1']\n",
      "['MAXYMILIAN', '1']\n",
      "['MIECZYSŁAW', '1']\n",
      "['MIRON', '1']\n",
      "['NAZAR', '1']\n",
      "['NILS', '1']\n",
      "['NOEL', '1']\n",
      "['OLGIERD', '1']\n",
      "['OREST', '1']\n",
      "['PATRIK', '1']\n",
      "['SAMUEL', '1']\n",
      "['SERGIUSZ', '1']\n",
      "['SŁAWOMIR', '1']\n",
      "['SYLWESTER', '1']\n",
      "['SZCZEPAN', '1']\n",
      "['VIKTOR', '1']\n",
      "['XAVIER', '1']\n"
     ]
    }
   ],
   "source": [
    "#najpierw wybieramy sposób wczytania danych\n",
    "dane = []\n",
    "with open('imiona_gdansk_2015.csv') as csv_file:\n",
    "    csv_content = csv.reader(csv_file, delimiter=';')\n",
    "    for row in csv_content:\n",
    "        print(row)\n",
    "        dane.append(row)\n"
   ]
  },
  {
   "cell_type": "code",
   "execution_count": 29,
   "metadata": {},
   "outputs": [
    {
     "name": "stdout",
     "output_type": "stream",
     "text": [
      "65\n"
     ]
    }
   ],
   "source": [
    "your_name = 'SZYMON'\n",
    "for row in dane[1:]: #pierwsza linijka to nagłówki, dlatego pomijamy\n",
    "    if row[0] == your_name: # dane składa się z list, więc row to lista dwu elementowa\n",
    "        print(row[1]) # liczba osób o danym imieniu"
   ]
  },
  {
   "cell_type": "markdown",
   "metadata": {},
   "source": [
    "### Ćwiczenie 6\n",
    "Napisz program, który znajdzie najrzadzsze imiona (ustalmy, że to takie, które nadano tylko jednej osobie)"
   ]
  },
  {
   "cell_type": "code",
   "execution_count": 32,
   "metadata": {
    "collapsed": true,
    "jupyter": {
     "outputs_hidden": true
    }
   },
   "outputs": [
    {
     "name": "stdout",
     "output_type": "stream",
     "text": [
      "ABRIL\n",
      "ALICIA\n",
      "ALINA\n",
      "AMANDA\n",
      "AWERYLLA\n",
      "BERENIKA\n",
      "BIBIANA\n",
      "BOGUMIŁA\n",
      "CARMEN\n",
      "CELESTYNA\n",
      "CLARISSA\n",
      "DAGMARA\n",
      "DAGNA\n",
      "DALIA\n",
      "DARIA\n",
      "DIANA\n",
      "DOBROCHNA\n",
      "ESTER\n",
      "ESTERA\n",
      "FELICJA\n",
      "FRANCISZKA\n",
      "GRACJA\n",
      "GRETA\n",
      "HANA\n",
      "ILARIA\n",
      "ILONA\n",
      "INA\n",
      "INEZ\n",
      "INGA\n",
      "IRLA\n",
      "JANA\n",
      "JANINA\n",
      "JOWITA\n",
      "JÓZEFINA\n",
      "JUDYTA\n",
      "KARINA\n",
      "KAYA\n",
      "KIARA\n",
      "KIRA\n",
      "KLEMENTYNA\n",
      "LAILA\n",
      "LARA\n",
      "LEILA\n",
      "LEONORA\n",
      "LETYCJA\n",
      "LILI\n",
      "LIVIA\n",
      "LUCYNA\n",
      "MALENA\n",
      "MALINA\n",
      "MARCJANNA\n",
      "MARISSA\n",
      "MASZA\n",
      "MIŁA\n",
      "MIRA\n",
      "MIRIAM\n",
      "NEWENA\n",
      "OLA\n",
      "ROXANA\n",
      "SABINA\n",
      "SAMANTA\n",
      "SANDRA\n",
      "SELENA\n",
      "SIMAR\n",
      "STEFANIA\n",
      "STELLA\n",
      "TANAE\n",
      "TIMEA\n",
      "VIVIENNE\n",
      "WALENTYNA\n",
      "WERA\n",
      "WIERA\n",
      "ZOE\n",
      "ZOJA\n",
      "ABDULLATIF\n",
      "AITEN\n",
      "ALEK\n",
      "ALEKS\n",
      "ARIEL\n",
      "ARISTOTELIS\n",
      "ARON\n",
      "BALTAZAR\n",
      "BASTIAN\n",
      "BENEDYKT\n",
      "BENJAMIN\n",
      "BOGDAN\n",
      "BOGUMIŁ\n",
      "BOLESŁAW\n",
      "BRAJAN\n",
      "BRUNON\n",
      "BRYAN\n",
      "CHARLES\n",
      "CZESŁAW\n",
      "EDWIN\n",
      "EMILIAN\n",
      "ERNEST\n",
      "GEORG\n",
      "GNIEWKO\n",
      "GNIEWOSZ\n",
      "HUGO\n",
      "JACEK\n",
      "JAROSŁAW\n",
      "JOACHIM\n",
      "JOEL\n",
      "KARIM\n",
      "KASPER\n",
      "KAYSON\n",
      "KORDIAN\n",
      "KOSMA\n",
      "KRZESIMIR\n",
      "KSAWIER\n",
      "LENART\n",
      "LEO\n",
      "LEONARDO\n",
      "LESZEK\n",
      "MA CIEJ\n",
      "MAKS\n",
      "MAKSYM\n",
      "MARIO\n",
      "MAURYCY\n",
      "MAXIMILIAN\n",
      "MAXYM\n",
      "MAXYMILIAN\n",
      "MIECZYSŁAW\n",
      "MIRON\n",
      "NAZAR\n",
      "NILS\n",
      "NOEL\n",
      "OLGIERD\n",
      "OREST\n",
      "PATRIK\n",
      "SAMUEL\n",
      "SERGIUSZ\n",
      "SŁAWOMIR\n",
      "SYLWESTER\n",
      "SZCZEPAN\n",
      "VIKTOR\n",
      "XAVIER\n"
     ]
    }
   ],
   "source": [
    "for row in dane[1:]: \n",
    "    if int(row[1]) == 1: # musimy zrzutować zmienną na int, gdyz pow czytaniu jest jako string\n",
    "        print(row[0])"
   ]
  },
  {
   "cell_type": "markdown",
   "metadata": {},
   "source": [
    "### Ćwiczenie 7\n",
    "Napisz program, który znajdzie najrzadzsze imiona dla chłopców i dziewczynek osobno. <br>\n",
    "Założenie: żeńskie imiona kończą się na A. Jest to drobne nadużycie w tym wypadku."
   ]
  },
  {
   "cell_type": "code",
   "execution_count": 31,
   "metadata": {},
   "outputs": [],
   "source": [
    "with open('imiona_gdansk_2015.csv', errors='ignore') as csv_file: \n",
    "    # errors='igonre' dla osób  u których nie działało beztego ze wzgledu na polskie znaki, problem z systemem operacyjnym\n",
    "    csv_content = csv.DictReader(csv_file, delimiter=';')\n",
    "    count = 0\n",
    "    for row in csv_content:\n",
    "        dane.append(row)"
   ]
  },
  {
   "cell_type": "code",
   "execution_count": 39,
   "metadata": {},
   "outputs": [
    {
     "name": "stdout",
     "output_type": "stream",
     "text": [
      "['ABIGAIL', 'AGORE', 'AMELIE', 'CARMEN', 'EMI', 'HEIDI', 'KAREN', 'KYLIE', 'MEGAN', 'NAOMI', 'ZOE', 'ADNAN', 'AKSEL', 'ALEK', 'ALEKSY', 'ANDRZEJ', 'ARCHIE', 'ARON', 'AUGUSTYN', 'AXEL', 'BENEDYKT', 'BENIAMIN', 'BOGUMIŁ', 'BRAJAN', 'BRUNON', 'CRISTIANO', 'CZESŁAW', 'DAMIEN', 'DAVID', 'EDMUND', 'EDWARD', 'ERIC', 'ERNEST', 'EUZEBIUSZ', 'FLORIAN', 'FRANCESCO', 'FRANCO', 'GERALD', 'GILBERT', 'GNIEWOSZ', 'HERBERT', 'IVO', 'JAROMIR', 'JEREMIASZ', 'JONASZ', 'JONATAN', 'KASJAN', 'KASPER', 'KEVIN', 'KORDIAN', 'KSAWIER', 'LEO', 'LEOPOLD', 'LEVI', 'LUCAS', 'MAKSYM', 'MARCELI', 'MARIUSZ', 'MARK', 'MAXIMILIAN', 'MAXIMILIANO', 'MIECZYSŁAW', 'MIROSŁAW', 'NORBERT', 'OLIWER', 'OSCAR', 'OTTO', 'PANKRACY', 'PATRYK', 'PHILIP', 'RADOSŁAW', 'ROCH', 'SAMUEL', 'SERGIUSZ', 'SYLWESTER', 'SYRIUSZ', 'ŚCIBOR', 'TEOMAN', 'VINCENT', 'WILLIAM', 'XAVIER', 'ABRIL', 'CARMEN', 'ESTER', 'INEZ', 'LILI', 'MIRIAM', 'SIMAR', 'TANAE', 'VIVIENNE', 'ZOE', 'ABDULLATIF', 'AITEN', 'ALEK', 'ALEKS', 'ARIEL', 'ARISTOTELIS', 'ARON', 'BALTAZAR', 'BASTIAN', 'BENEDYKT', 'BENJAMIN', 'BOGDAN', 'BOGUMIŁ', 'BOLESŁAW', 'BRAJAN', 'BRUNON', 'BRYAN', 'CHARLES', 'CZESŁAW', 'EDWIN', 'EMILIAN', 'ERNEST', 'GEORG', 'GNIEWKO', 'GNIEWOSZ', 'HUGO', 'JACEK', 'JAROSŁAW', 'JOACHIM', 'JOEL', 'KARIM', 'KASPER', 'KAYSON', 'KORDIAN', 'KRZESIMIR', 'KSAWIER', 'LENART', 'LEO', 'LEONARDO', 'LESZEK', 'MA CIEJ', 'MAKS', 'MAKSYM', 'MARIO', 'MAURYCY', 'MAXIMILIAN', 'MAXYM', 'MAXYMILIAN', 'MIECZYSŁAW', 'MIRON', 'NAZAR', 'NILS', 'NOEL', 'OLGIERD', 'OREST', 'PATRIK', 'SAMUEL', 'SERGIUSZ', 'SŁAWOMIR', 'SYLWESTER', 'SZCZEPAN', 'VIKTOR', 'XAVIER']\n"
     ]
    }
   ],
   "source": [
    "imiona_z = [] \n",
    "imiona_m = []\n",
    "for row in dane[1:]: \n",
    "    if int(row['liczba osób']) == 1 and row['Imię'][-1]=='A': # musimy zrzutować zmienną na int, gdyz po wczytaniu jest jako string\n",
    "        imiona_z.append(row['Imię'])\n",
    "    elif int(row['liczba osób']) == 1 and row['Imię'][-1]!='A':\n",
    "        imiona_m.append(row['Imię'])\n",
    "print(imiona_m)"
   ]
  },
  {
   "cell_type": "markdown",
   "metadata": {},
   "source": [
    "### Ćwiczenie 8\n",
    "Napisz program, który wypsizę liczbę urodzeń w 2015 roku"
   ]
  },
  {
   "cell_type": "code",
   "execution_count": 16,
   "metadata": {},
   "outputs": [
    {
     "name": "stdout",
     "output_type": "stream",
     "text": [
      "OrderedDict([('Imię', 'ZUZANNA'), ('liczba osób', '86')])\n"
     ]
    }
   ],
   "source": [
    "dane = []\n",
    "with open('imiona_gdansk_2015.csv', errors='ignore') as csv_file: \n",
    "    # errors='igonre' dla osób  u których nie działało beztego ze wzgledu na polskie znaki, problem z systemem operacyjnym\n",
    "    csv_content = csv.DictReader(csv_file, delimiter=';')\n",
    "    count = 0\n",
    "    for row in csv_content:\n",
    "        dane.append(row)\n",
    "print(dane[2])"
   ]
  },
  {
   "cell_type": "code",
   "execution_count": 19,
   "metadata": {},
   "outputs": [],
   "source": [
    "# powyżej wczytaliśmy plik, wytsarczy teraz zsumować\n",
    "suma = 0\n",
    "for i in dane:\n",
    "    suma += int(i['liczba osób'])"
   ]
  },
  {
   "cell_type": "code",
   "execution_count": 20,
   "metadata": {},
   "outputs": [
    {
     "name": "stdout",
     "output_type": "stream",
     "text": [
      "4485\n"
     ]
    }
   ],
   "source": [
    "print(suma)"
   ]
  },
  {
   "cell_type": "markdown",
   "metadata": {},
   "source": [
    "### Ćwiczenie 9\n",
    "Napisz program, który znajdzie liczbę urodzeń w latach  2015 - 2018 <br>\n",
    "Dla każdego roku osobno. Przykładowy wynik działania programu: <br>\n",
    "`Liczba urodzeń w 2015: yyyy` <br>\n",
    "`Liczba urodzeń w 2016: yyyy` <br>\n",
    "`...`"
   ]
  },
  {
   "cell_type": "code",
   "execution_count": 45,
   "metadata": {},
   "outputs": [
    {
     "name": "stdout",
     "output_type": "stream",
     "text": [
      "Liczba urodzęń w 2015 wynosi 4485\n",
      "Liczba urodzęń w 2016 wynosi 4743\n",
      "Liczba urodzęń w 2017 wynosi 4698\n",
      "Liczba urodzęń w 2018 wynosi 4685\n"
     ]
    }
   ],
   "source": [
    "lista_plikow= ['imiona_gdansk_2015.csv', 'imiona_gdansk_2016.csv','imiona_gdansk_2017.csv', 'imiona_gdansk_2018.csv']\n",
    "rok = 2015\n",
    "for nazwa in lista_plikow:\n",
    "    dane = []\n",
    "    \n",
    "    with open(nazwa, errors='ignore') as csv_file: \n",
    "        # errors='igonre' dla osób  u których nie działało beztego ze wzgledu na polskie znaki, problem z systemem operacyjnym\n",
    "        csv_content = csv.DictReader(csv_file, delimiter=';', fieldnames=['Imię', 'liczba osób']) #neiktóre pliki nie mają nagłówków dodajemy je\n",
    "        count = 0\n",
    "        for row in csv_content:\n",
    "            dane.append(row)\n",
    "    suma = 0\n",
    "    #print(dane[0])\n",
    "    if rok == 2015:\n",
    "        dane.pop(0) # usuwamy naglowek w 2015 roku\n",
    "    for i in dane:\n",
    "        suma += int(i['liczba osób'])\n",
    "    print('Liczba urodzęń w', rok, 'wynosi', suma)\n",
    "    rok += 1"
   ]
  },
  {
   "cell_type": "markdown",
   "metadata": {},
   "source": [
    "### Ćwiczenie 10\n",
    "Napisz program, który znajdzie liczbę urodzeń chłopców i dziewczynek w 2015 roku."
   ]
  },
  {
   "cell_type": "code",
   "execution_count": 48,
   "metadata": {},
   "outputs": [],
   "source": [
    "# zadanie poniżej "
   ]
  },
  {
   "cell_type": "markdown",
   "metadata": {},
   "source": [
    "### Ćwiczenie 11\n",
    "Napisz program, który znajdzie liczbę urodzeń chłopców i dziewczynek w latach 2015-2018"
   ]
  },
  {
   "cell_type": "code",
   "execution_count": 47,
   "metadata": {},
   "outputs": [
    {
     "name": "stdout",
     "output_type": "stream",
     "text": [
      "Liczba urodzęń w 2015 wynosi 4485\n",
      "Liczba urodzeń dziewczynek 2156\n",
      "Liczba urodzeń chłopców 2329 \n",
      "\n",
      "Liczba urodzęń w 2016 wynosi 4743\n",
      "Liczba urodzeń dziewczynek 2319\n",
      "Liczba urodzeń chłopców 2424 \n",
      "\n",
      "Liczba urodzęń w 2017 wynosi 4698\n",
      "Liczba urodzeń dziewczynek 2264\n",
      "Liczba urodzeń chłopców 2434 \n",
      "\n",
      "Liczba urodzęń w 2018 wynosi 4685\n",
      "Liczba urodzeń dziewczynek 2259\n",
      "Liczba urodzeń chłopców 2426 \n",
      "\n"
     ]
    }
   ],
   "source": [
    "# jak wyżej tylko dajemy if czy imię żeńkie czy nie\n",
    "lista_plikow= ['imiona_gdansk_2015.csv', 'imiona_gdansk_2016.csv','imiona_gdansk_2017.csv', 'imiona_gdansk_2018.csv']\n",
    "rok = 2015\n",
    "for nazwa in lista_plikow:\n",
    "    dane = []\n",
    "    \n",
    "    with open(nazwa, errors='ignore') as csv_file: \n",
    "        # errors='igonre' dla osób  u których nie działało beztego ze wzgledu na polskie znaki, problem z systemem operacyjnym\n",
    "        csv_content = csv.DictReader(csv_file, delimiter=';', fieldnames=['Imię', 'liczba osób']) #neiktóre pliki nie mają nagłówków dodajemy je\n",
    "        count = 0\n",
    "        for row in csv_content:\n",
    "            dane.append(row)\n",
    "    suma = 0\n",
    "    suma_z = 0\n",
    "    #print(dane[0])\n",
    "    if rok == 2015:\n",
    "        dane.pop(0) # usuwamy naglowek w 2015 roku\n",
    "    for i in dane:\n",
    "        suma += int(i['liczba osób'])\n",
    "        if i['Imię'][-1] == 'A':\n",
    "            suma_z += int(i['liczba osób'])\n",
    "    print('Liczba urodzęń w', rok, 'wynosi', suma)\n",
    "    print('Liczba urodzeń dziewczynek', suma_z)\n",
    "    print('Liczba urodzeń chłopców', suma - suma_z, '\\n')\n",
    "    rok += 1"
   ]
  },
  {
   "cell_type": "code",
   "execution_count": null,
   "metadata": {},
   "outputs": [],
   "source": []
  }
 ],
 "metadata": {
  "kernelspec": {
   "display_name": "Python 3",
   "language": "python",
   "name": "python3"
  },
  "language_info": {
   "codemirror_mode": {
    "name": "ipython",
    "version": 3
   },
   "file_extension": ".py",
   "mimetype": "text/x-python",
   "name": "python",
   "nbconvert_exporter": "python",
   "pygments_lexer": "ipython3",
   "version": "3.7.0"
  }
 },
 "nbformat": 4,
 "nbformat_minor": 4
}
