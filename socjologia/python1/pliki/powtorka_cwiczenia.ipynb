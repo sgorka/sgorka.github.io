{
 "cells": [
  {
   "cell_type": "markdown",
   "metadata": {},
   "source": [
    "### __Ćwiczenie 1__\n",
    "Napisz funkcję która wypisze <br>\n",
    "```\n",
    "+\n",
    "++\n",
    "+++\n",
    "++++\n",
    "+++++\n",
    "```\n",
    "WYkorzystaj pętle `for`"
   ]
  },
  {
   "cell_type": "code",
   "execution_count": null,
   "metadata": {},
   "outputs": [],
   "source": []
  },
  {
   "cell_type": "markdown",
   "metadata": {},
   "source": [
    "### __Ćwiczenie 2__ \n",
    "Napisz funkcję `tree()`, gdzie argumentem jest liczba wierszy"
   ]
  },
  {
   "cell_type": "code",
   "execution_count": null,
   "metadata": {},
   "outputs": [],
   "source": []
  },
  {
   "cell_type": "markdown",
   "metadata": {},
   "source": [
    "### __Ćwiczenie 3__\n",
    "Napisz funkcję `tree()`, gdzie argumentem jest liczba wierszy.\n",
    "Ustaw domyślną liczbę wierszy na `n=5`"
   ]
  },
  {
   "cell_type": "code",
   "execution_count": null,
   "metadata": {},
   "outputs": [],
   "source": []
  },
  {
   "cell_type": "markdown",
   "metadata": {},
   "source": [
    "### __Ćwiczenie 4__\n",
    "Zmodyfikuj funkcję z porpzedniego ćwiczenia tak, aby użytkownik mógł wybrać \n",
    "znak. Dodaj argument, który przyjmuje wartości `1,2,3`\n",
    "np. \n",
    "1. jeśli opcja 1 to *\n",
    "1. jeśli opcja 2 to #\n",
    "1. jeśli opcja 3 to + <br>\n",
    "\n",
    "Dodaj domyślną wartość opcji."
   ]
  },
  {
   "cell_type": "code",
   "execution_count": null,
   "metadata": {},
   "outputs": [],
   "source": []
  },
  {
   "cell_type": "markdown",
   "metadata": {},
   "source": [
    "### __Ćwiczenie 5__\n",
    "Zmodyfikuj funkcję z poprzedniego ćwiczenia tak, aby wypisać:\n",
    "```\n",
    "    *    \n",
    "   ***   \n",
    "  *****  \n",
    " ******* \n",
    "*********\n",
    "```\n",
    "Uwagi: \n",
    "Wypisz tylko nieparzyste linie. <br>\n",
    "Aby wynik działania był liczbą całkowitą użyj funkcji `int()`"
   ]
  },
  {
   "cell_type": "markdown",
   "metadata": {},
   "source": [
    "***"
   ]
  },
  {
   "cell_type": "markdown",
   "metadata": {},
   "source": [
    "### __Ćwiczenie 6__\n",
    "Wczytaj dane z pliku `'falszerstwa_wg_kraju_wyd_2018.csv'` używając `csv.DictReader`"
   ]
  },
  {
   "cell_type": "code",
   "execution_count": null,
   "metadata": {},
   "outputs": [],
   "source": []
  },
  {
   "cell_type": "markdown",
   "metadata": {},
   "source": [
    "### __Ćwiczenie 7__\n",
    "Znajdź kraj o największej liczbie `'cudzy oryginalny - rodzaj fałszerstwa'`"
   ]
  },
  {
   "cell_type": "code",
   "execution_count": null,
   "metadata": {},
   "outputs": [],
   "source": []
  },
  {
   "cell_type": "markdown",
   "metadata": {},
   "source": [
    "### __Ćwiczenie 8__\n",
    "Zsumuj liczbę prób przekorczenia grnaicy z fałszywym paszportem"
   ]
  },
  {
   "cell_type": "code",
   "execution_count": null,
   "metadata": {},
   "outputs": [],
   "source": []
  },
  {
   "cell_type": "markdown",
   "metadata": {},
   "source": [
    "### __Ćwiczenie 9__\n",
    "Zsumuj liczbę prób przekorczenia w podziale ze względu na rodzaj dokumentu. "
   ]
  },
  {
   "cell_type": "code",
   "execution_count": null,
   "metadata": {},
   "outputs": [],
   "source": []
  }
 ],
 "metadata": {
  "kernelspec": {
   "display_name": "Python 3",
   "language": "python",
   "name": "python3"
  },
  "language_info": {
   "codemirror_mode": {
    "name": "ipython",
    "version": 3
   },
   "file_extension": ".py",
   "mimetype": "text/x-python",
   "name": "python",
   "nbconvert_exporter": "python",
   "pygments_lexer": "ipython3",
   "version": "3.7.0"
  }
 },
 "nbformat": 4,
 "nbformat_minor": 4
}
