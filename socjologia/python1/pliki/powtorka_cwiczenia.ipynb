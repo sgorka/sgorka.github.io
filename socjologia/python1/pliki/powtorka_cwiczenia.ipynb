{
 "cells": [
  {
   "cell_type": "markdown",
   "metadata": {},
   "source": [
    "### __Ćwiczenie 1__\n",
    "Napisz funkcję która wypisze <br>\n",
    "```\n",
    "+\n",
    "++\n",
    "+++\n",
    "++++\n",
    "+++++\n",
    "```\n",
    "WYkorzystaj pętle `for`"
   ]
  },
  {
   "cell_type": "code",
   "execution_count": 1,
   "metadata": {},
   "outputs": [],
   "source": [
    "def tree():\n",
    "    for i in range(5):\n",
    "        print(i*'*')"
   ]
  },
  {
   "cell_type": "code",
   "execution_count": 2,
   "metadata": {},
   "outputs": [
    {
     "name": "stdout",
     "output_type": "stream",
     "text": [
      "\n",
      "*\n",
      "**\n",
      "***\n",
      "****\n"
     ]
    }
   ],
   "source": [
    "tree()"
   ]
  },
  {
   "cell_type": "markdown",
   "metadata": {},
   "source": [
    "### __Ćwiczenie 2__ \n",
    "Napisz funkcję `tree()`, gdzie argumentem jest liczba wierszy"
   ]
  },
  {
   "cell_type": "code",
   "execution_count": 3,
   "metadata": {},
   "outputs": [],
   "source": [
    "def tree(n):\n",
    "    for i in range(n):\n",
    "        print(i*'*')"
   ]
  },
  {
   "cell_type": "code",
   "execution_count": 4,
   "metadata": {},
   "outputs": [
    {
     "name": "stdout",
     "output_type": "stream",
     "text": [
      "\n",
      "*\n",
      "**\n",
      "***\n"
     ]
    }
   ],
   "source": [
    "tree(4)"
   ]
  },
  {
   "cell_type": "markdown",
   "metadata": {},
   "source": [
    "### __Ćwiczenie 3__\n",
    "Napisz funkcję `tree()`, gdzie argumentem jest liczba wierszy.\n",
    "Ustaw domyślną liczbę wierszy na `n=5`"
   ]
  },
  {
   "cell_type": "code",
   "execution_count": 7,
   "metadata": {},
   "outputs": [],
   "source": [
    "def tree(n=5):\n",
    "    for i in range(n):\n",
    "        print(i*'*')"
   ]
  },
  {
   "cell_type": "code",
   "execution_count": 8,
   "metadata": {},
   "outputs": [
    {
     "name": "stdout",
     "output_type": "stream",
     "text": [
      "\n",
      "*\n",
      "**\n",
      "***\n",
      "****\n"
     ]
    }
   ],
   "source": [
    "tree()"
   ]
  },
  {
   "cell_type": "code",
   "execution_count": 9,
   "metadata": {},
   "outputs": [
    {
     "name": "stdout",
     "output_type": "stream",
     "text": [
      "\n",
      "*\n",
      "**\n",
      "***\n",
      "****\n",
      "*****\n",
      "******\n",
      "*******\n",
      "********\n",
      "*********\n"
     ]
    }
   ],
   "source": [
    "tree(10)"
   ]
  },
  {
   "cell_type": "markdown",
   "metadata": {},
   "source": [
    "### __Ćwiczenie 4__\n",
    "Zmodyfikuj funkcję z poprzedniego ćwiczenia tak, aby użytkownik mógł wybrać \n",
    "znak. Dodaj argument, który przyjmuje wartości `1,2,3`\n",
    "np. \n",
    "1. jeśli opcja 1 to *\n",
    "1. jeśli opcja 2 to #\n",
    "1. jeśli opcja 3 to + <br>\n",
    "\n",
    "Dodaj domyślną wartość opcji."
   ]
  },
  {
   "cell_type": "code",
   "execution_count": 14,
   "metadata": {},
   "outputs": [],
   "source": [
    "def tree(opcja, n=5):\n",
    "    \n",
    "    if opcja == 1:\n",
    "        znak = '*'\n",
    "    elif opcja == 2:\n",
    "        znak = '#'\n",
    "    elif opcja == 3:\n",
    "        zmak == '+'\n",
    "    \n",
    "    for i in range(n):\n",
    "        print(i*znak)"
   ]
  },
  {
   "cell_type": "code",
   "execution_count": 15,
   "metadata": {},
   "outputs": [
    {
     "name": "stdout",
     "output_type": "stream",
     "text": [
      "\n",
      "#\n",
      "##\n",
      "###\n",
      "####\n"
     ]
    }
   ],
   "source": [
    "tree(2)"
   ]
  },
  {
   "cell_type": "markdown",
   "metadata": {},
   "source": [
    "### __Ćwiczenie 5__\n",
    "Zmodyfikuj funkcję z poprzedniego ćwiczenia tak, aby wypisać:\n",
    "```\n",
    "    *    \n",
    "   ***   \n",
    "  *****  \n",
    " ******* \n",
    "*********\n",
    "```\n",
    "Uwagi: \n",
    "Wypisz tylko nieparzyste linie. <br>\n",
    "Aby wynik działania był liczbą całkowitą użyj funkcji `int()`"
   ]
  },
  {
   "cell_type": "code",
   "execution_count": 19,
   "metadata": {},
   "outputs": [],
   "source": [
    "def tree(opcja, n=5):\n",
    "    \n",
    "    if opcja == 1:\n",
    "        znak = '*'\n",
    "    elif opcja == 2:\n",
    "        znak = '#'\n",
    "    elif opcja == 3:\n",
    "        zmak == '+'\n",
    "    \n",
    "    for i in range(n):\n",
    "        spacje = int((n-i)/2)\n",
    "        if i%2 != 0:\n",
    "            print(spacje*' ',i*znak, spacje*' ')"
   ]
  },
  {
   "cell_type": "code",
   "execution_count": 21,
   "metadata": {},
   "outputs": [
    {
     "name": "stdout",
     "output_type": "stream",
     "text": [
      "     *     \n",
      "    ***    \n",
      "   *****   \n",
      "  *******  \n",
      " ********* \n"
     ]
    }
   ],
   "source": [
    "tree(1, 10)"
   ]
  },
  {
   "cell_type": "markdown",
   "metadata": {},
   "source": [
    "***"
   ]
  },
  {
   "cell_type": "code",
   "execution_count": 27,
   "metadata": {},
   "outputs": [],
   "source": [
    "import csv\n",
    "from pprint import pprint"
   ]
  },
  {
   "cell_type": "markdown",
   "metadata": {},
   "source": [
    "### __Ćwiczenie 6__\n",
    "Wczytaj dane z pliku `'falszerstwa_wg_kraju_wyd_2018.csv'` używając `csv.DictReader`"
   ]
  },
  {
   "cell_type": "code",
   "execution_count": 25,
   "metadata": {},
   "outputs": [],
   "source": [
    "filename = 'falszerstwa_wg_kraju_wyd_2018.csv'"
   ]
  },
  {
   "cell_type": "code",
   "execution_count": 30,
   "metadata": {},
   "outputs": [],
   "source": [
    "dane = []\n",
    "with open(filename) as file:\n",
    "    csv_content = csv.DictReader(file, delimiter=';')\n",
    "    for i in csv_content:\n",
    "        dane.append(i)"
   ]
  },
  {
   "cell_type": "code",
   "execution_count": 31,
   "metadata": {},
   "outputs": [
    {
     "name": "stdout",
     "output_type": "stream",
     "text": [
      "OrderedDict([('Kraj wydający dokument', 'Francja'),\n",
      "             ('kosy ISO Alfa 3166', 'FRA'),\n",
      "             ('Razem', '47'),\n",
      "             ('wyłudzenie - rodzaj fałszerstwa', '15'),\n",
      "             ('podrobienie - rodzaj fałszerstwa', '19'),\n",
      "             ('przerobienie - rodzaj fałszerstwa', '7'),\n",
      "             ('cudzy oryginalny - rodzaj fałszerstwa', '6'),\n",
      "             ('wypełnienie - rodzaj fałszerstwa', ''),\n",
      "             ('wiza - rodzaj dokumentu', '28'),\n",
      "             ('stempel* - rodzaj dokumentu', '3'),\n",
      "             ('dowód osobisty - rodzaj dokumentu', '3'),\n",
      "             ('dokument pobytowy - rodzaj dokumentu', '9'),\n",
      "             ('paszport - rodzaj dokumentu', '4'),\n",
      "             ('karta mrg - rodzaj dokumentu', ''),\n",
      "             ('inne - rodzaj dokumentu', '')])\n"
     ]
    }
   ],
   "source": [
    "pprint(dane[1])"
   ]
  },
  {
   "cell_type": "markdown",
   "metadata": {},
   "source": [
    "### __Ćwiczenie 7__\n",
    "Znajdź kraj o największej liczbie `'cudzy oryginalny - rodzaj fałszerstwa'`"
   ]
  },
  {
   "cell_type": "code",
   "execution_count": 43,
   "metadata": {},
   "outputs": [
    {
     "name": "stdout",
     "output_type": "stream",
     "text": [
      "Kraj: Bułgaria \n",
      "liczba: 13\n"
     ]
    }
   ],
   "source": [
    "# potrzebujemy dane o 'cudzy oryginalny - rodzaj fałszerstwa' oraz co to za kraj\n",
    "kraj = ''\n",
    "max_liczba = 0\n",
    "for i in dane:\n",
    "    #print(i['Kraj wydający dokument'])\n",
    "    liczba = i['cudzy oryginalny - rodzaj fałszerstwa']\n",
    "    if liczba == '':\n",
    "        liczba = 0\n",
    "    else:\n",
    "        liczba = int(liczba)\n",
    "    if max_liczba < liczba:\n",
    "        kraj = i['Kraj wydający dokument']\n",
    "        max_liczba = liczba\n",
    "\n",
    "print('Kraj:', kraj, '\\nliczba:', max_liczba)\n"
   ]
  },
  {
   "cell_type": "markdown",
   "metadata": {},
   "source": [
    "### __Ćwiczenie 8__\n",
    "Zsumuj liczbę prób przekorczenia grnaicy z fałszywym paszportem"
   ]
  },
  {
   "cell_type": "code",
   "execution_count": null,
   "metadata": {},
   "outputs": [],
   "source": []
  },
  {
   "cell_type": "markdown",
   "metadata": {},
   "source": [
    "### __Ćwiczenie 9__\n",
    "Zsumuj liczbę prób przekorczenia w podziale ze względu na rodzaj dokumentu. "
   ]
  },
  {
   "cell_type": "code",
   "execution_count": null,
   "metadata": {},
   "outputs": [],
   "source": []
  }
 ],
 "metadata": {
  "kernelspec": {
   "display_name": "Python 3",
   "language": "python",
   "name": "python3"
  },
  "language_info": {
   "codemirror_mode": {
    "name": "ipython",
    "version": 3
   },
   "file_extension": ".py",
   "mimetype": "text/x-python",
   "name": "python",
   "nbconvert_exporter": "python",
   "pygments_lexer": "ipython3",
   "version": "3.7.0"
  }
 },
 "nbformat": 4,
 "nbformat_minor": 4
}
