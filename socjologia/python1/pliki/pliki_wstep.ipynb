{
 "cells": [
  {
   "cell_type": "markdown",
   "metadata": {},
   "source": [
    "# Pliki\n",
    "Zaczeliśmy od biblioteki os. <br>\n",
    "Pierwsze co to musimy ją wczytać"
   ]
  },
  {
   "cell_type": "code",
   "execution_count": 1,
   "metadata": {},
   "outputs": [],
   "source": [
    "import os"
   ]
  },
  {
   "cell_type": "markdown",
   "metadata": {},
   "source": [
    "Sprawdzanie obecnej ścieżki"
   ]
  },
  {
   "cell_type": "code",
   "execution_count": 2,
   "metadata": {},
   "outputs": [
    {
     "data": {
      "text/plain": [
       "'E:\\\\python_socjologia\\\\python\\\\zajecia07'"
      ]
     },
     "execution_count": 2,
     "metadata": {},
     "output_type": "execute_result"
    }
   ],
   "source": [
    "os.getcwd()"
   ]
  },
  {
   "cell_type": "markdown",
   "metadata": {},
   "source": [
    "Inne polecenia\n",
    "- os.chdir() - zmiana ścieżki\n",
    "- os.path.join() - stworzenie ścieżki - jako napis\n",
    "- os.mkdir() - tworzy nowy katalog\n",
    "- os.mkdirs() - tworzy nowe katalogi, zagnieżdżone\n",
    "- os.listdir() - zwraca zawartość katalogu jako lista"
   ]
  },
  {
   "cell_type": "code",
   "execution_count": 3,
   "metadata": {},
   "outputs": [],
   "source": [
    "cwd = os.getcwd()"
   ]
  },
  {
   "cell_type": "code",
   "execution_count": 4,
   "metadata": {},
   "outputs": [
    {
     "data": {
      "text/plain": [
       "'E:\\\\python_socjologia\\\\python\\\\zajecia07\\\\pliki'"
      ]
     },
     "execution_count": 4,
     "metadata": {},
     "output_type": "execute_result"
    }
   ],
   "source": [
    "os.path.join(cwd, 'pliki')"
   ]
  },
  {
   "cell_type": "code",
   "execution_count": 5,
   "metadata": {},
   "outputs": [
    {
     "data": {
      "text/plain": [
       "'E:\\\\python_socjologia\\\\python\\\\zajecia07\\\\pliki'"
      ]
     },
     "execution_count": 5,
     "metadata": {},
     "output_type": "execute_result"
    }
   ],
   "source": [
    "path = os.path.join(cwd, 'pliki')\n",
    "os.chdir(os.path.join(cwd, 'pliki')) # tu następuje zmiana ścieżki\n",
    "os.getcwd() # sprawdźmy czy się zmieniłą"
   ]
  },
  {
   "cell_type": "code",
   "execution_count": 6,
   "metadata": {},
   "outputs": [
    {
     "data": {
      "text/plain": [
       "['file_1.txt',\n",
       " 'file_10.txt',\n",
       " 'file_15.txt',\n",
       " 'file_2.txt',\n",
       " 'file_21.txt',\n",
       " 'file_8.txt',\n",
       " 'inne_10',\n",
       " 'inne_5',\n",
       " 'inne_8',\n",
       " 'inne_9',\n",
       " 'new1',\n",
       " 'plik00.txt',\n",
       " 'plik01.txt',\n",
       " 'plik02.txt',\n",
       " 'pliki_0',\n",
       " 'plik_13.txt',\n",
       " 'raport_2',\n",
       " 'raport_7',\n",
       " 'temp_0.txt',\n",
       " 'temp_11.txt',\n",
       " 'temp_14.txt',\n",
       " 'temp_17.txt',\n",
       " 'temp_18.txt',\n",
       " 'temp_19.txt',\n",
       " 'temp_20.txt',\n",
       " 'temp_9.txt',\n",
       " 'testfile.txt',\n",
       " 'testfile_12.txt',\n",
       " 'testfile_16.txt',\n",
       " 'testfile_3.txt',\n",
       " 'testfile_4.txt',\n",
       " 'testfile_5.txt',\n",
       " 'testfile_6.txt',\n",
       " 'testfile_7.txt',\n",
       " 'test_1',\n",
       " 'test_3',\n",
       " 'test_4',\n",
       " 'zdjęcia_11',\n",
       " 'zdjęcia_12',\n",
       " 'zdjęcia_6']"
      ]
     },
     "execution_count": 6,
     "metadata": {},
     "output_type": "execute_result"
    }
   ],
   "source": [
    "os.listdir()"
   ]
  },
  {
   "cell_type": "code",
   "execution_count": 7,
   "metadata": {},
   "outputs": [
    {
     "name": "stdout",
     "output_type": "stream",
     "text": [
      "<class 'list'>\n"
     ]
    }
   ],
   "source": [
    "zawartosc = os.listdir()\n",
    "print(type(zawartosc))"
   ]
  },
  {
   "cell_type": "markdown",
   "metadata": {},
   "source": [
    "Gdy mamy ściężkę do konretnego pliku (katalogu) możemy sprawdzić czy rzeczywiście istnieje (jest an dysku).\n",
    "<br>\n",
    "Ponadto możemy sprawdzić czy jest taki katalog lub plik"
   ]
  },
  {
   "cell_type": "code",
   "execution_count": 10,
   "metadata": {},
   "outputs": [],
   "source": [
    "path = os.path.join('./', 'raport_7') # ./ oznacza bieżący katalog"
   ]
  },
  {
   "cell_type": "code",
   "execution_count": 11,
   "metadata": {},
   "outputs": [
    {
     "data": {
      "text/plain": [
       "True"
      ]
     },
     "execution_count": 11,
     "metadata": {},
     "output_type": "execute_result"
    }
   ],
   "source": [
    "os.path.exists(path)"
   ]
  },
  {
   "cell_type": "code",
   "execution_count": 13,
   "metadata": {},
   "outputs": [
    {
     "data": {
      "text/plain": [
       "False"
      ]
     },
     "execution_count": 13,
     "metadata": {},
     "output_type": "execute_result"
    }
   ],
   "source": [
    "os.path.isfile(path)"
   ]
  },
  {
   "cell_type": "code",
   "execution_count": 14,
   "metadata": {},
   "outputs": [
    {
     "data": {
      "text/plain": [
       "True"
      ]
     },
     "execution_count": 14,
     "metadata": {},
     "output_type": "execute_result"
    }
   ],
   "source": [
    "os.path.isdir(path)"
   ]
  },
  {
   "cell_type": "markdown",
   "metadata": {},
   "source": [
    "## Ćwiczenie\n",
    "Zlicz ile jest katalogów"
   ]
  },
  {
   "cell_type": "code",
   "execution_count": 21,
   "metadata": {},
   "outputs": [
    {
     "name": "stdout",
     "output_type": "stream",
     "text": [
      "Liczba katalogów w \"E:\\python_socjologia\\python\\zajecia07\\pliki\" wynosi 14\n"
     ]
    }
   ],
   "source": [
    "count = 0\n",
    "for name in os.listdir():\n",
    "    if os.path.isdir(name):\n",
    "        count += 1\n",
    "print('Liczba katalogów w \\\"', os.getcwd(), '\\\" wynosi ', count, sep='')"
   ]
  },
  {
   "cell_type": "markdown",
   "metadata": {},
   "source": [
    "## Wczytywanie plików\n",
    "open('nazwa_pliku', 'tryb'), możliwe tryby\n",
    "- `'r'` - tyllko do odczytu\n",
    "- `'w'` - zapis, nadpisujemu plik jeśli istnieje\n",
    "- `'a'` - dodajemuy nową treść do już istniejącej\n",
    "- `'r+'` - r + w\n",
    "\n",
    "\n",
    "Na zajęciach, mieliśmy problem z polskimi znakami. Aby temu zaradzić określaliśmy kodowanie, `encoding='utf-8'`"
   ]
  },
  {
   "cell_type": "code",
   "execution_count": 23,
   "metadata": {},
   "outputs": [
    {
     "name": "stdout",
     "output_type": "stream",
     "text": [
      "Jabłek nie jadam. Zmądrzałem.\n",
      "Adam.\n",
      "Jan Sztaudynger, Rajska depesza, s. 249\n",
      "\n",
      "Kochać ludzi, wszystkich ludzi?\n",
      "O, jak to trudzi! \n",
      "Jan Sztaudynger\n",
      "\n",
      "\n",
      "My zabijamy czas,\n",
      "A on zabija nas. \n",
      "Jan Sztaudynger\n",
      "\n",
      "\n"
     ]
    }
   ],
   "source": [
    "file = open('plik00.txt', 'r', encoding='utf-8')\n",
    "print(file.read())\n",
    "file.close()"
   ]
  },
  {
   "cell_type": "markdown",
   "metadata": {},
   "source": [
    "To samo mozemy uzyskać z metodą `with`"
   ]
  },
  {
   "cell_type": "code",
   "execution_count": 24,
   "metadata": {},
   "outputs": [
    {
     "name": "stdout",
     "output_type": "stream",
     "text": [
      "Jabłek nie jadam. Zmądrzałem.\n",
      "Adam.\n",
      "Jan Sztaudynger, Rajska depesza, s. 249\n",
      "\n",
      "Kochać ludzi, wszystkich ludzi?\n",
      "O, jak to trudzi! \n",
      "Jan Sztaudynger\n",
      "\n",
      "\n",
      "My zabijamy czas,\n",
      "A on zabija nas. \n",
      "Jan Sztaudynger\n",
      "\n",
      "\n"
     ]
    }
   ],
   "source": [
    "with  open('plik00.txt', 'r', encoding='utf-8') as plik:\n",
    "    print(plik.read())"
   ]
  },
  {
   "cell_type": "code",
   "execution_count": 28,
   "metadata": {},
   "outputs": [
    {
     "name": "stdout",
     "output_type": "stream",
     "text": [
      "['Jabłek nie jadam. Zmądrzałem.\\n', 'Adam.\\n', 'Jan Sztaudynger, Rajska depesza, s. 249\\n', '\\n', 'Kochać ludzi, wszystkich ludzi?\\n', 'O, jak to trudzi! \\n', 'Jan Sztaudynger\\n', '\\n', '\\n', 'My zabijamy czas,\\n', 'A on zabija nas. \\n', 'Jan Sztaudynger\\n', '\\n']\n",
      "<class 'list'>\n"
     ]
    }
   ],
   "source": [
    "with  open('plik00.txt', 'r', encoding='utf-8') as plik:\n",
    "    data = plik.readlines()\n",
    "# Możemy użyć zapisanych danych na zmiennej poza metodą with\n",
    "print(data)\n",
    "print(type(data))"
   ]
  },
  {
   "cell_type": "code",
   "execution_count": 30,
   "metadata": {},
   "outputs": [],
   "source": [
    "with  open('plik_test2.txt', 'w') as plik:\n",
    "    plik.write('hello')"
   ]
  },
  {
   "cell_type": "markdown",
   "metadata": {},
   "source": [
    "Sprawdżmy czy taki plik powstał"
   ]
  },
  {
   "cell_type": "code",
   "execution_count": 31,
   "metadata": {},
   "outputs": [
    {
     "data": {
      "text/plain": [
       "True"
      ]
     },
     "execution_count": 31,
     "metadata": {},
     "output_type": "execute_result"
    }
   ],
   "source": [
    "'plik_test2.txt' in os.listdir()"
   ]
  },
  {
   "cell_type": "markdown",
   "metadata": {},
   "source": [
    "Wczytajmy go"
   ]
  },
  {
   "cell_type": "code",
   "execution_count": 32,
   "metadata": {},
   "outputs": [
    {
     "name": "stdout",
     "output_type": "stream",
     "text": [
      "hello\n"
     ]
    }
   ],
   "source": [
    "with  open('plik_test2.txt', 'r', encoding='utf-8') as plik:\n",
    "    print(plik.read())"
   ]
  },
  {
   "cell_type": "markdown",
   "metadata": {},
   "source": [
    "Mozemy też uzyskać słowa z dnageo pliku"
   ]
  },
  {
   "cell_type": "code",
   "execution_count": 33,
   "metadata": {},
   "outputs": [
    {
     "name": "stdout",
     "output_type": "stream",
     "text": [
      "['Jabłek', 'nie', 'jadam.', 'Zmądrzałem.']\n",
      "['Adam.']\n",
      "['Jan', 'Sztaudynger,', 'Rajska', 'depesza,', 's.', '249']\n",
      "[]\n",
      "['Kochać', 'ludzi,', 'wszystkich', 'ludzi?']\n",
      "['O,', 'jak', 'to', 'trudzi!']\n",
      "['Jan', 'Sztaudynger']\n",
      "[]\n",
      "[]\n",
      "['My', 'zabijamy', 'czas,']\n",
      "['A', 'on', 'zabija', 'nas.']\n",
      "['Jan', 'Sztaudynger']\n",
      "[]\n"
     ]
    }
   ],
   "source": [
    "with  open('plik00.txt', 'r', encoding='utf-8') as plik:\n",
    "    data = plik.readlines()\n",
    "    for line in data:\n",
    "        words = line.split()\n",
    "        print(words)"
   ]
  },
  {
   "cell_type": "markdown",
   "metadata": {},
   "source": [
    "## Ćwiczenie\n",
    "Znajdź pliki w, których występuje 'Jan Sztaudynger'"
   ]
  },
  {
   "cell_type": "code",
   "execution_count": 48,
   "metadata": {},
   "outputs": [
    {
     "name": "stdout",
     "output_type": "stream",
     "text": [
      "['adipiscing']\n",
      "['cillum']\n",
      "['cillum']\n",
      "['nostrud']\n",
      "['dolore']\n"
     ]
    },
    {
     "ename": "PermissionError",
     "evalue": "[Errno 13] Permission denied: 'inne_10'",
     "output_type": "error",
     "traceback": [
      "\u001b[1;31m---------------------------------------------------------------------------\u001b[0m",
      "\u001b[1;31mPermissionError\u001b[0m                           Traceback (most recent call last)",
      "\u001b[1;32m<ipython-input-48-cea185e10af7>\u001b[0m in \u001b[0;36m<module>\u001b[1;34m()\u001b[0m\n\u001b[0;32m      1\u001b[0m \u001b[1;31m# ten kod zawiera błąd. Porszę się zastanowić co tu jest nie tak\u001b[0m\u001b[1;33m\u001b[0m\u001b[1;33m\u001b[0m\u001b[0m\n\u001b[0;32m      2\u001b[0m \u001b[1;32mfor\u001b[0m \u001b[0mname\u001b[0m \u001b[1;32min\u001b[0m \u001b[0mos\u001b[0m\u001b[1;33m.\u001b[0m\u001b[0mlistdir\u001b[0m\u001b[1;33m(\u001b[0m\u001b[1;33m)\u001b[0m\u001b[1;33m:\u001b[0m\u001b[1;33m\u001b[0m\u001b[0m\n\u001b[1;32m----> 3\u001b[1;33m     \u001b[1;32mwith\u001b[0m  \u001b[0mopen\u001b[0m\u001b[1;33m(\u001b[0m\u001b[0mname\u001b[0m\u001b[1;33m,\u001b[0m \u001b[1;34m'r'\u001b[0m\u001b[1;33m,\u001b[0m \u001b[0mencoding\u001b[0m\u001b[1;33m=\u001b[0m\u001b[1;34m'utf-8'\u001b[0m\u001b[1;33m)\u001b[0m \u001b[1;32mas\u001b[0m \u001b[0mplik\u001b[0m\u001b[1;33m:\u001b[0m\u001b[1;33m\u001b[0m\u001b[0m\n\u001b[0m\u001b[0;32m      4\u001b[0m         \u001b[0mdata\u001b[0m \u001b[1;33m=\u001b[0m \u001b[0mplik\u001b[0m\u001b[1;33m.\u001b[0m\u001b[0mreadlines\u001b[0m\u001b[1;33m(\u001b[0m\u001b[1;33m)\u001b[0m\u001b[1;33m\u001b[0m\u001b[0m\n\u001b[0;32m      5\u001b[0m         \u001b[1;32mfor\u001b[0m \u001b[0mline\u001b[0m \u001b[1;32min\u001b[0m \u001b[0mdata\u001b[0m\u001b[1;33m:\u001b[0m\u001b[1;33m\u001b[0m\u001b[0m\n",
      "\u001b[1;31mPermissionError\u001b[0m: [Errno 13] Permission denied: 'inne_10'"
     ]
    }
   ],
   "source": [
    "# ten kod zawiera błąd. Porszę się zastanowić co tu jest nie tak\n",
    "for name in os.listdir():\n",
    "    with  open(name, 'r', encoding='utf-8') as plik:\n",
    "        data = plik.readlines()\n",
    "        for line in data:\n",
    "            words = line.split()\n",
    "            print(words)"
   ]
  },
  {
   "cell_type": "markdown",
   "metadata": {},
   "source": [
    "***"
   ]
  },
  {
   "cell_type": "code",
   "execution_count": 42,
   "metadata": {},
   "outputs": [
    {
     "name": "stdout",
     "output_type": "stream",
     "text": [
      "Jan Sztaudynger, Rajska depesza, s. 249\n",
      "\n",
      "plik00.txt\n",
      "Jan Sztaudynger\n",
      "\n",
      "plik00.txt\n",
      "Jan Sztaudynger\n",
      "\n",
      "plik00.txt\n",
      "Jan Sztaudynger\n",
      "\n",
      "plik01.txt\n",
      "Jan Sztaudynger\n",
      "plik02.txt\n"
     ]
    }
   ],
   "source": [
    "\n",
    "for name in os.listdir():\n",
    "    if os.path.isfile(name): # chcemy otworzyć tylko pliki\n",
    "        with  open(name, 'r', encoding='utf-8') as plik:\n",
    "            data = plik.readlines()\n",
    "            for line in data:\n",
    "                if 'Jan Sztaudynger'in line:\n",
    "                    print(line)\n",
    "                    print(name)"
   ]
  },
  {
   "cell_type": "markdown",
   "metadata": {},
   "source": [
    "Teraz, napiszmy kod, który zapisze nasz wynik na zmienną"
   ]
  },
  {
   "cell_type": "code",
   "execution_count": 43,
   "metadata": {},
   "outputs": [
    {
     "name": "stdout",
     "output_type": "stream",
     "text": [
      "['plik00.txt', 'plik00.txt', 'plik00.txt', 'plik01.txt', 'plik02.txt']\n"
     ]
    }
   ],
   "source": [
    "lista_plikow = []\n",
    "for name in os.listdir():\n",
    "    if os.path.isfile(name): # chcemy otworzyć tylko pliki\n",
    "        with  open(name, 'r', encoding='utf-8') as plik:\n",
    "            data = plik.readlines()\n",
    "            for line in data:\n",
    "                if 'Jan Sztaudynger'in line:\n",
    "                    lista_plikow.append(name)\n",
    "print(lista_plikow)"
   ]
  },
  {
   "cell_type": "markdown",
   "metadata": {},
   "source": [
    "Na zajęciach o funkcjach stworzyliśmy funkcję, która zwraca unikalne elementy listy.\n",
    "Wykorzystajmy go teraz"
   ]
  },
  {
   "cell_type": "code",
   "execution_count": 46,
   "metadata": {},
   "outputs": [],
   "source": [
    "def unique_list(lista):\n",
    "    x = []\n",
    "    for i in lista:\n",
    "        if i not in x:\n",
    "            x.append(i)\n",
    "            #print(x)\n",
    "    return x\n",
    "\n"
   ]
  },
  {
   "cell_type": "code",
   "execution_count": 47,
   "metadata": {},
   "outputs": [
    {
     "name": "stdout",
     "output_type": "stream",
     "text": [
      "['plik00.txt', 'plik01.txt', 'plik02.txt']\n"
     ]
    }
   ],
   "source": [
    "lista_plikow = []\n",
    "for name in os.listdir():\n",
    "    if os.path.isfile(name): # chcemy otworzyć tylko pliki\n",
    "        with  open(name, 'r', encoding='utf-8') as plik:\n",
    "            data = plik.readlines()\n",
    "            for line in data:\n",
    "                if 'Jan Sztaudynger'in line:\n",
    "                    lista_plikow.append(name)\n",
    "print(unique_list(lista_plikow))"
   ]
  },
  {
   "cell_type": "code",
   "execution_count": null,
   "metadata": {},
   "outputs": [],
   "source": []
  }
 ],
 "metadata": {
  "kernelspec": {
   "display_name": "Python 3",
   "language": "python",
   "name": "python3"
  },
  "language_info": {
   "codemirror_mode": {
    "name": "ipython",
    "version": 3
   },
   "file_extension": ".py",
   "mimetype": "text/x-python",
   "name": "python",
   "nbconvert_exporter": "python",
   "pygments_lexer": "ipython3",
   "version": "3.7.0"
  }
 },
 "nbformat": 4,
 "nbformat_minor": 4
}
